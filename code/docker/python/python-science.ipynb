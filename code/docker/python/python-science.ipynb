{
 "cells": [
  {
   "cell_type": "markdown",
   "metadata": {},
   "source": [
    "# Science Calucaluation for Python 1"
   ]
  },
  {
   "cell_type": "markdown",
   "metadata": {},
   "source": [
    "Introduce the Numpy"
   ]
  },
  {
   "cell_type": "code",
   "execution_count": 2,
   "metadata": {
    "collapsed": false
   },
   "outputs": [
    {
     "data": {
      "text/plain": [
       "4"
      ]
     },
     "execution_count": 2,
     "metadata": {},
     "output_type": "execute_result"
    }
   ],
   "source": [
    "import numpy as np\n",
    "x = np.array([1, 2, 3], dtype=np.float32)\n",
    "x\n",
    "x.itemsize"
   ]
  },
  {
   "cell_type": "markdown",
   "metadata": {},
   "source": [
    "numpy is possible to calc all element without the for loop."
   ]
  },
  {
   "cell_type": "code",
   "execution_count": 3,
   "metadata": {
    "collapsed": false
   },
   "outputs": [
    {
     "data": {
      "text/plain": [
       "array([ 0.84147096,  0.90929741,  0.14112   ], dtype=float32)"
      ]
     },
     "execution_count": 3,
     "metadata": {},
     "output_type": "execute_result"
    }
   ],
   "source": [
    "np.sin(np.array([1, 2, 3], dtype=np.float32))"
   ]
  },
  {
   "cell_type": "markdown",
   "metadata": {},
   "source": [
    "numpy's limit is the 32 demision"
   ]
  },
  {
   "cell_type": "code",
   "execution_count": 16,
   "metadata": {
    "collapsed": false,
    "scrolled": true
   },
   "outputs": [
    {
     "name": "stdout",
     "output_type": "stream",
     "text": [
      "(2, 3)\n",
      "[1 4]\n",
      "[2 5]\n",
      "[1 2 3]\n",
      "[[2 3]\n",
      " [5 6]]\n",
      "[[1 3]\n",
      " [4 6]]\n",
      "[[3 2 1]\n",
      " [6 5 4]]\n",
      "[[ 1.  1.  1.]\n",
      " [ 1.  1.  1.]\n",
      " [ 1.  1.  1.]]\n"
     ]
    },
    {
     "data": {
      "text/plain": [
       "array([[ 1.,  1.,  1.,  1.],\n",
       "       [ 1.,  1.,  1.,  1.],\n",
       "       [ 1.,  1.,  1.,  1.]])"
      ]
     },
     "execution_count": 16,
     "metadata": {},
     "output_type": "execute_result"
    }
   ],
   "source": [
    "x=np.array([[1, 2, 3], [4, 5, 6]])\n",
    "print(x.shape)\n",
    "print(x[:, 0])\n",
    "print(x[:, 1])\n",
    "print(x[0,:])\n",
    "print(x[:, 1:])\n",
    "print(x[:, ::2])\n",
    "print(x[:, ::-1])\n",
    "x = np.ones((3,3))\n",
    "print(x)\n",
    "x[:, [0, 1, 2, 2]]"
   ]
  },
  {
   "cell_type": "markdown",
   "metadata": {},
   "source": [
    "Cautation for slicing numpy"
   ]
  },
  {
   "cell_type": "code",
   "execution_count": 18,
   "metadata": {
    "collapsed": false
   },
   "outputs": [
    {
     "name": "stdout",
     "output_type": "stream",
     "text": [
      "[[ 1.  1.  1.]\n",
      " [ 1.  1.  1.]\n",
      " [ 1.  1.  1.]]\n",
      "[[ 1.  1.]\n",
      " [ 1.  1.]]\n",
      "[[ 999.    1.    1.]\n",
      " [   1.    1.    1.]\n",
      " [   1.    1.    1.]]\n",
      "[[ 999.    1.]\n",
      " [   1.    1.]]\n"
     ]
    }
   ],
   "source": [
    "x = np.ones((3,3))\n",
    "print(x)\n",
    "y = x[:2, :2]\n",
    "print(y)\n",
    "x[0, 0] = 999\n",
    "print(x)\n",
    "print(y)"
   ]
  },
  {
   "cell_type": "markdown",
   "metadata": {},
   "source": [
    "numpy for "
   ]
  },
  {
   "cell_type": "code",
   "execution_count": 32,
   "metadata": {
    "collapsed": false
   },
   "outputs": [
    {
     "name": "stdout",
     "output_type": "stream",
     "text": [
      "[ 0  1  2  3  4  5  6  7  8  9 10 11 12 13 14 15]\n",
      "[[0 1 2 3]\n",
      " [1 2 3 4]\n",
      " [2 3 4 5]\n",
      " [3 4 5 6]\n",
      " [4 5 6 7]\n",
      " [5 6 7 8]\n",
      " [6 7 8 9]]\n",
      "[99  1 99  3 99  5 99  7 99  9 99 11 99 13 99 15]\n",
      "[[99  1 99  3]\n",
      " [ 1 99  3 99]\n",
      " [99  3 99  5]\n",
      " [ 3 99  5 99]\n",
      " [99  5 99  7]\n",
      " [ 5 99  7 99]\n",
      " [99  7 99  9]]\n"
     ]
    }
   ],
   "source": [
    "from numpy.lib.stride_tricks import as_strided\n",
    "x = np.arange(16)\n",
    "print(x)\n",
    "y = as_strided(x, (7,4), (x.itemsize,)*2)\n",
    "print(y)\n",
    "x[::2] = 99\n",
    "print(x)\n",
    "print(y)"
   ]
  },
  {
   "cell_type": "markdown",
   "metadata": {},
   "source": [
    "Confirme the as_strided"
   ]
  },
  {
   "cell_type": "code",
   "execution_count": 38,
   "metadata": {
    "collapsed": false
   },
   "outputs": [
    {
     "name": "stdout",
     "output_type": "stream",
     "text": [
      "[[0 1 2 3]\n",
      " [1 2 3 4]\n",
      " [2 3 4 5]\n",
      " [3 4 5 6]\n",
      " [4 5 6 7]]\n",
      "8\n",
      "(8, 8)\n"
     ]
    }
   ],
   "source": [
    "n = 8\n",
    "x = np.arange(n)\n",
    "k = 5\n",
    "y = as_strided(x, (k, n-k+1), (x.itemsize, )*2)\n",
    "print(y)\n",
    "print(x.itemsize)\n",
    "print((x.itemsize, )*2)"
   ]
  },
  {
   "cell_type": "markdown",
   "metadata": {},
   "source": [
    "Matrix of the Numpy "
   ]
  },
  {
   "cell_type": "code",
   "execution_count": 45,
   "metadata": {
    "collapsed": false,
    "scrolled": true
   },
   "outputs": [
    {
     "name": "stdout",
     "output_type": "stream",
     "text": [
      "[[1]\n",
      " [4]\n",
      " [7]]\n",
      "[[1]\n",
      " [4]\n",
      " [7]]\n"
     ]
    }
   ],
   "source": [
    "A = np.matrix([[1, 2, 3], [4, 5, 6], [7, 8, 9]])\n",
    "x = np.matrix([[1], [0], [0]])\n",
    "print(A*x)\n",
    "print(A.dot(x))"
   ]
  },
  {
   "cell_type": "markdown",
   "metadata": {},
   "source": [
    "Matrix and array"
   ]
  },
  {
   "cell_type": "code",
   "execution_count": 46,
   "metadata": {
    "collapsed": false
   },
   "outputs": [
    {
     "name": "stdout",
     "output_type": "stream",
     "text": [
      "<class 'numpy.ndarray'>\n",
      "[[ 1.  1.  1.]\n",
      " [ 1.  1.  1.]\n",
      " [ 1.  1.  1.]]\n",
      "[[ 3.]\n",
      " [ 3.]\n",
      " [ 3.]]\n"
     ]
    }
   ],
   "source": [
    "A=np.ones((3, 3))\n",
    "print(type(A))\n",
    "x=np.ones((3, 1))\n",
    "print(A*x)\n",
    "print(np.matrix(A)*x)"
   ]
  },
  {
   "cell_type": "markdown",
   "metadata": {},
   "source": [
    "Numpy Broad Casting"
   ]
  },
  {
   "cell_type": "code",
   "execution_count": 56,
   "metadata": {
    "collapsed": false
   },
   "outputs": [
    {
     "name": "stdout",
     "output_type": "stream",
     "text": [
      "[[0 1]\n",
      " [0 1]]\n",
      "[[0 0]\n",
      " [1 1]]\n",
      "[[0 1]\n",
      " [1 2]]\n",
      "[[0 1]\n",
      " [1 2]]\n",
      "[0 1]\n",
      "[[0]\n",
      " [1]]\n",
      "[[0 1]\n",
      " [1 2]\n",
      " [2 3]]\n",
      "[[0 1]\n",
      " [1 2]\n",
      " [2 3]]\n"
     ]
    },
    {
     "data": {
      "text/plain": [
       "array([[[0, 1],\n",
       "        [1, 2],\n",
       "        [2, 3]],\n",
       "\n",
       "       [[1, 2],\n",
       "        [2, 3],\n",
       "        [3, 4]],\n",
       "\n",
       "       [[2, 3],\n",
       "        [3, 4],\n",
       "        [4, 5]],\n",
       "\n",
       "       [[3, 4],\n",
       "        [4, 5],\n",
       "        [5, 6]]])"
      ]
     },
     "execution_count": 56,
     "metadata": {},
     "output_type": "execute_result"
    }
   ],
   "source": [
    "X,Y=np.meshgrid(np.arange(2), np.arange(2))\n",
    "print(X)\n",
    "print(Y)\n",
    "print(X+Y)\n",
    "x = np.array([0, 1])\n",
    "y = np.array([0, 1])\n",
    "print(x + y[:, None])\n",
    "print(x)\n",
    "print(y[:, None])\n",
    "x = np.array([0, 1])\n",
    "y = np.array([0, 1, 2])\n",
    "X,Y = np.meshgrid(x,y)\n",
    "print(X+Y)\n",
    "print(x+y[:, None])\n",
    "z = np.array([0, 1, 2, 3])\n",
    "x+y[:,None]+z[:,None,None]"
   ]
  },
  {
   "cell_type": "markdown",
   "metadata": {},
   "source": [
    "Masking Array "
   ]
  },
  {
   "cell_type": "code",
   "execution_count": 59,
   "metadata": {
    "collapsed": false
   },
   "outputs": [
    {
     "name": "stdout",
     "output_type": "stream",
     "text": [
      "[-- -- -- -- -- 5 6 7 8 9]\n",
      "(10,)\n",
      "[ 0  1  2  3  4  5  6  7  8 99]\n",
      "[-- -- -- -- -- 5 6 7 8 99]\n"
     ]
    }
   ],
   "source": [
    "from numpy import ma\n",
    "x = np.arange(10)\n",
    "y = ma.masked_array(x, x < 5)\n",
    "print(y)\n",
    "print(y.shape)\n",
    "x[-1] = 99\n",
    "print(x)\n",
    "print(y)"
   ]
  },
  {
   "cell_type": "markdown",
   "metadata": {
    "collapsed": false
   },
   "source": [
    "# Matplotlib"
   ]
  },
  {
   "cell_type": "code",
   "execution_count": 61,
   "metadata": {
    "collapsed": false
   },
   "outputs": [
    {
     "name": "stderr",
     "output_type": "stream",
     "text": [
      "/usr/local/lib/python3.4/dist-packages/matplotlib/__init__.py:1357: UserWarning:  This call to matplotlib.use() has no effect\n",
      "because the backend has already been chosen;\n",
      "matplotlib.use() must be called *before* pylab, matplotlib.pyplot,\n",
      "or matplotlib.backends is imported for the first time.\n",
      "\n",
      "  warnings.warn(_use_error_msg)\n"
     ]
    },
    {
     "data": {
      "image/png": "[encoded data removed]",
      "text/plain": [
       "<matplotlib.figure.Figure at 0x7fcd7d75b1d0>"
      ]
     },
     "metadata": {},
     "output_type": "display_data"
    }
   ],
   "source": [
    "import matplotlib\n",
    "matplotlib.use('Agg')\n",
    "import matplotlib.pyplot as plt\n",
    "%matplotlib inline\n",
    "plt.plot(range(10))\n",
    "plt.show()"
   ]
  },
  {
   "cell_type": "markdown",
   "metadata": {
    "collapsed": true
   },
   "source": [
    "# Pands"
   ]
  },
  {
   "cell_type": "code",
   "execution_count": 69,
   "metadata": {
    "collapsed": false
   },
   "outputs": [
    {
     "name": "stdout",
     "output_type": "stream",
     "text": [
      "0     1\n",
      "1     3\n",
      "2     9\n",
      "3    11\n",
      "4    12\n",
      "dtype: int64\n",
      "a     1\n",
      "b     3\n",
      "d     9\n",
      "z    11\n",
      "z    12\n",
      "dtype: int64\n",
      "a    1\n",
      "b    3\n",
      "d    9\n",
      "dtype: int64\n",
      "1     0\n",
      "2     1\n",
      "11    2\n",
      "9     3\n",
      "10    4\n",
      "dtype: int64\n",
      "2     1\n",
      "10    4\n",
      "dtype: int64\n",
      "1     0\n",
      "11    2\n",
      "9     3\n",
      "dtype: int64\n",
      "0    4\n",
      "1    3\n",
      "dtype: int64\n"
     ]
    }
   ],
   "source": [
    "import pandas as pd\n",
    "x = pd.Series(index = range(5), data=[1, 3, 9, 11, 12])\n",
    "print(x)\n",
    "x = pd.Series(index = ['a', 'b', 'd', 'z', 'z'], data=[1, 3, 9, 11, 12])\n",
    "print(x)\n",
    "print(x.iloc[:3])\n",
    "x = pd.Series(range(5), [1, 2, 11, 9, 10])\n",
    "print(x)\n",
    "grp = x.groupby(lambda i:i%2)\n",
    "print(grp.get_group(0))\n",
    "print(grp.get_group(1))\n",
    "print(grp.max())"
   ]
  },
  {
   "cell_type": "markdown",
   "metadata": {},
   "source": [
    "data frame"
   ]
  },
  {
   "cell_type": "code",
   "execution_count": 86,
   "metadata": {
    "collapsed": false
   },
   "outputs": [
    {
     "name": "stdout",
     "output_type": "stream",
     "text": [
      "   col1  col2\n",
      "0     1     9\n",
      "1     3    23\n",
      "2    11     0\n",
      "3     2     2\n",
      "   col1  col2\n",
      "0     1     9\n",
      "1     3    23\n",
      "0     1\n",
      "1     3\n",
      "2    11\n",
      "3     2\n",
      "Name: col1, dtype: int64\n",
      "0     1\n",
      "1     3\n",
      "2    11\n",
      "3     2\n",
      "Name: col1, dtype: int64\n",
      "col1    17\n",
      "col2    34\n",
      "dtype: int64\n",
      "<pandas.core.groupby.DataFrameGroupBy object at 0x7fcd7d816240>\n",
      "   col1  col2\n",
      "0     1     1\n",
      "1     1     2\n",
      "      col2\n",
      "col1      \n",
      "0        7\n",
      "1        3\n",
      "   col1  col2  sum_col\n",
      "0     1     1        2\n",
      "1     1     2        3\n",
      "2     0     3        3\n",
      "3     0     4        4\n",
      "              col2\n",
      "sum_col col1      \n",
      "2       1        1\n",
      "3       0        3\n",
      "        1        2\n",
      "4       0        4\n",
      "        col2     \n",
      "col1       0    1\n",
      "sum_col          \n",
      "2        NaN  1.0\n",
      "3        3.0  2.0\n",
      "4        4.0  NaN\n"
     ]
    }
   ],
   "source": [
    "df = pd.DataFrame({\"col1\": [1, 3, 11, 2], \"col2\": [9, 23, 0, 2]})\n",
    "print(df)\n",
    "print(df.iloc[:2, :2])\n",
    "print(df['col1'])\n",
    "print(df.col1)\n",
    "print(df.sum())\n",
    "df = pd.DataFrame({\"col1\": [1, 1, 0, 0], \"col2\": [1, 2, 3, 4]})\n",
    "grp=df.groupby('col1')\n",
    "print(grp)\n",
    "print(grp.get_group(1))\n",
    "print(grp.sum())\n",
    "df['sum_col'] = df.eval('col1+col2')\n",
    "print(df)\n",
    "grp = df.groupby(['sum_col', 'col1'])\n",
    "res = grp.sum()\n",
    "print(res)\n",
    "print(res.unstack())"
   ]
  },
  {
   "cell_type": "markdown",
   "metadata": {},
   "source": [
    "# Sympy"
   ]
  },
  {
   "cell_type": "code",
   "execution_count": 95,
   "metadata": {
    "collapsed": false
   },
   "outputs": [
    {
     "name": "stdout",
     "output_type": "stream",
     "text": [
      "x**2 + x + 1\n",
      "[-1/2 - sqrt(3)*I/2, -1/2 + sqrt(3)*I/2]\n",
      "{-1/2 - sqrt(3)*I/2: 1, -1/2 + sqrt(3)*I/2: 1}\n"
     ]
    }
   ],
   "source": [
    "import sympy as S\n",
    "x = S.symbols(\"x\")\n",
    "p = sum(x**i for i in range(3))\n",
    "print(p)\n",
    "print(S.solve(p))\n",
    "print(S.roots(p))"
   ]
  },
  {
   "cell_type": "code",
   "execution_count": 96,
   "metadata": {
    "collapsed": false
   },
   "outputs": [
    {
     "data": {
      "text/plain": [
       "[(-b + sqrt(-4*a*c + b**2))/(2*a), -(b + sqrt(-4*a*c + b**2))/(2*a)]"
      ]
     },
     "execution_count": 96,
     "metadata": {},
     "output_type": "execute_result"
    }
   ],
   "source": [
    "from sympy.abc import a,b,c\n",
    "p = a* x**2 + b*x + c\n",
    "S.solve(p, x)"
   ]
  },
  {
   "cell_type": "code",
   "execution_count": 97,
   "metadata": {
    "collapsed": false
   },
   "outputs": [
    {
     "data": {
      "text/plain": [
       "exp(I*a)"
      ]
     },
     "execution_count": 97,
     "metadata": {},
     "output_type": "execute_result"
    }
   ],
   "source": [
    "S.exp(S.I*a)"
   ]
  },
  {
   "cell_type": "code",
   "execution_count": 98,
   "metadata": {
    "collapsed": false
   },
   "outputs": [
    {
     "data": {
      "text/plain": [
       "I*exp(-im(a))*sin(re(a)) + exp(-im(a))*cos(re(a))"
      ]
     },
     "execution_count": 98,
     "metadata": {},
     "output_type": "execute_result"
    }
   ],
   "source": [
    "S.expand_complex(S.exp(S.I*a))"
   ]
  },
  {
   "cell_type": "code",
   "execution_count": 101,
   "metadata": {
    "collapsed": false
   },
   "outputs": [
    {
     "name": "stdout",
     "output_type": "stream",
     "text": [
      "I*sin(a) + cos(a)\n"
     ]
    }
   ],
   "source": [
    "a = S.symbols(\"a\", real=True)\n",
    "print(S.expand_complex(S.exp(S.I*a)))"
   ]
  },
  {
   "cell_type": "code",
   "execution_count": 103,
   "metadata": {
    "collapsed": false
   },
   "outputs": [
    {
     "name": "stdout",
     "output_type": "stream",
     "text": [
      "0.0200334672085451\n",
      "0.0200334672085\n"
     ]
    }
   ],
   "source": [
    "y = S.tan(x) * x + x ** 2\n",
    "yf = S.lambdify(x, y, 'numpy')\n",
    "print(y.subs(x, .1))\n",
    "print(yf(.1))"
   ]
  },
  {
   "cell_type": "code",
   "execution_count": 105,
   "metadata": {
    "collapsed": false
   },
   "outputs": [
    {
     "data": {
      "text/plain": [
       "array([ 0.        ,  2.55740772, -0.37007973])"
      ]
     },
     "execution_count": 105,
     "metadata": {},
     "output_type": "execute_result"
    }
   ],
   "source": [
    "yf(np.arange(3))"
   ]
  },
  {
   "cell_type": "code",
   "execution_count": 107,
   "metadata": {
    "collapsed": false
   },
   "outputs": [
    {
     "data": {
      "text/plain": [
       "[0, 2.55740772465490, -0.370079726523038]"
      ]
     },
     "execution_count": 107,
     "metadata": {},
     "output_type": "execute_result"
    }
   ],
   "source": [
    "[y.subs(x, i).evalf() for i in range(3)]"
   ]
  },
  {
   "cell_type": "markdown",
   "metadata": {},
   "source": [
    "# MultiProcessing"
   ]
  },
  {
   "cell_type": "code",
   "execution_count": 114,
   "metadata": {
    "collapsed": false
   },
   "outputs": [
    {
     "name": "stdout",
     "output_type": "stream",
     "text": [
      "Starting process 0\n",
      "Starting process 1\n",
      "Starting process 2\n",
      "Starting process 3\n"
     ]
    }
   ],
   "source": [
    "import multiprocessing\n",
    "import time\n",
    "\n",
    "\n",
    "def worker(k):\n",
    "    print(\"Starting process %d\" % (k))\n",
    "    time.sleep(10)\n",
    "    print('Done waiting')\n",
    "    return\n",
    "\n",
    "if __name__ == '__main__':\n",
    "    for i in range(10):\n",
    "        p = multiprocessing.Process(target=worker, args=(i,))\n",
    "        p.start()"
   ]
  },
  {
   "cell_type": "code",
   "execution_count": 115,
   "metadata": {
    "collapsed": true
   },
   "outputs": [
    {
     "name": "stdout",
     "output_type": "stream",
     "text": [
      "Starting process 5\n",
      "Starting process 4\n",
      "Starting process 6\n",
      "Starting process 7\n",
      "Starting process 8\n",
      "Starting process 9\n"
     ]
    },
    {
     "ename": "ImportError",
     "evalue": "No module named 'futures'",
     "traceback": [
      "\u001b[1;31m---------------------------------------------------------------------------\u001b[0m",
      "\u001b[1;31mImportError\u001b[0m                               Traceback (most recent call last)",
      "\u001b[1;32m<ipython-input-115-27ce00021956>\u001b[0m in \u001b[0;36m<module>\u001b[1;34m()\u001b[0m\n\u001b[1;32m----> 1\u001b[1;33m \u001b[1;32mimport\u001b[0m \u001b[0mfutures\u001b[0m\u001b[1;33m\u001b[0m\u001b[0m\n\u001b[0m\u001b[0;32m      2\u001b[0m \u001b[1;32mimport\u001b[0m \u001b[0mtime\u001b[0m\u001b[1;33m\u001b[0m\u001b[0m\n\u001b[0;32m      3\u001b[0m \u001b[1;33m\u001b[0m\u001b[0m\n\u001b[0;32m      4\u001b[0m \u001b[1;33m\u001b[0m\u001b[0m\n\u001b[0;32m      5\u001b[0m \u001b[1;32mdef\u001b[0m \u001b[0mworker\u001b[0m\u001b[1;33m(\u001b[0m\u001b[0mk\u001b[0m\u001b[1;33m)\u001b[0m\u001b[1;33m:\u001b[0m\u001b[1;33m\u001b[0m\u001b[0m\n",
      "\u001b[1;31mImportError\u001b[0m: No module named 'futures'"
     ],
     "output_type": "error"
    }
   ],
   "source": [
    "import futures\n",
    "import time\n",
    "\n",
    "\n",
    "def worker(k):\n",
    "    print(\"Starting process %d\" % (k))\n",
    "    time.sleep(10)\n",
    "    print('Done waiting')\n",
    "    return\n",
    "\n",
    "def main():\n",
    "    with futures.ProcessPoolExcutor(max_workers=3) as executor:\n",
    "        list(executor.map(worker, range(10)))\n",
    "\n",
    "if __name__ == '__main__':\n",
    "    main()"
   ]
  },
  {
   "cell_type": "code",
   "execution_count": null,
   "metadata": {
    "collapsed": true
   },
   "outputs": [],
   "source": [
    ""
   ]
  }
 ],
 "metadata": {
  "kernelspec": {
   "display_name": "Python 3",
   "language": "python",
   "name": "python3"
  },
  "language_info": {
   "codemirror_mode": {
    "name": "ipython",
    "version": 3.0
   },
   "file_extension": ".py",
   "mimetype": "text/x-python",
   "name": "python",
   "nbconvert_exporter": "python",
   "pygments_lexer": "ipython3",
   "version": "3.4.3"
  }
 },
 "nbformat": 4,
 "nbformat_minor": 0
}