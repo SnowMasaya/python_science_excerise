{
 "cells": [
  {
   "cell_type": "markdown",
   "metadata": {},
   "source": [
    "# 確率"
   ]
  },
  {
   "cell_type": "code",
   "execution_count": 12,
   "metadata": {
    "collapsed": false
   },
   "outputs": [
    {
     "name": "stdout",
     "output_type": "stream",
     "text": [
      "defaultdict(<class 'list'>, {2: [(1, 1)], 3: [(2, 1), (1, 2)], 4: [(1, 3), (3, 1), (2, 2)], 5: [(3, 2), (1, 4), (2, 3), (4, 1)], 6: [(5, 1), (4, 2), (3, 3), (1, 5), (2, 4)], 7: [(1, 6), (2, 5), (3, 4), (6, 1), (5, 2), (4, 3)], 8: [(2, 6), (3, 5), (4, 4), (6, 2), (5, 3)], 9: [(3, 6), (4, 5), (5, 4), (6, 3)], 10: [(6, 4), (4, 6), (5, 5)], 11: [(6, 5), (5, 6)], 12: [(6, 6)]})\n",
      "[(1, 6), (2, 5), (3, 4), (6, 1), (5, 2), (4, 3)]\n",
      "{2: 0.027777777777777776, 3: 0.05555555555555555, 4: 0.08333333333333333, 5: 0.1111111111111111, 6: 0.1388888888888889, 7: 0.16666666666666666, 8: 0.1388888888888889, 9: 0.1111111111111111, 10: 0.08333333333333333, 11: 0.05555555555555555, 12: 0.027777777777777776}\n"
     ]
    }
   ],
   "source": [
    "d = {(i, j): i + j for i in range(1, 7) for j in range(1, 7)}\n",
    "from collections import defaultdict\n",
    "dinv = defaultdict(list)\n",
    "for key, value in d.items():\n",
    "    dinv[value].append(key)\n",
    "print(dinv)\n",
    "print(dinv[7])\n",
    "X={i:len(j)/36. for i,j in dinv.items()}\n",
    "print(X)"
   ]
  },
  {
   "cell_type": "code",
   "execution_count": 15,
   "metadata": {
    "collapsed": false
   },
   "outputs": [
    {
     "name": "stdout",
     "output_type": "stream",
     "text": [
      "{False: 0.37037037037037035, True: 0.6296296296296297}\n"
     ]
    }
   ],
   "source": [
    "d = {(i, j, k): ((i*j*k) / 2 > i+j+k) for i in range(1, 7) \n",
    "                                              for j in range(1,7)\n",
    "                                                 for k in range(1,7)}\n",
    "dinv = defaultdict(list)\n",
    "for i, j in d.items(): dinv[j].append(i)\n",
    "X = {i:len(j)/ 6.0**3 for i, j in dinv.items() }\n",
    "print(X)"
   ]
  },
  {
   "cell_type": "code",
   "execution_count": 28,
   "metadata": {
    "collapsed": false
   },
   "outputs": [
    {
     "data": {
      "text/html": [
       "<div>\n",
       "<table border=\"1\" class=\"dataframe\">\n",
       "  <thead>\n",
       "    <tr style=\"text-align: right;\">\n",
       "      <th></th>\n",
       "      <th>sm</th>\n",
       "      <th>d1</th>\n",
       "      <th>d2</th>\n",
       "      <th>pd1</th>\n",
       "      <th>pd2</th>\n",
       "      <th>p</th>\n",
       "    </tr>\n",
       "  </thead>\n",
       "  <tbody>\n",
       "    <tr>\n",
       "      <th>(1, 1)</th>\n",
       "      <td>2</td>\n",
       "      <td>1</td>\n",
       "      <td>1</td>\n",
       "      <td>NaN</td>\n",
       "      <td>NaN</td>\n",
       "      <td>NaN</td>\n",
       "    </tr>\n",
       "    <tr>\n",
       "      <th>(1, 2)</th>\n",
       "      <td>3</td>\n",
       "      <td>1</td>\n",
       "      <td>2</td>\n",
       "      <td>NaN</td>\n",
       "      <td>NaN</td>\n",
       "      <td>NaN</td>\n",
       "    </tr>\n",
       "    <tr>\n",
       "      <th>(1, 3)</th>\n",
       "      <td>4</td>\n",
       "      <td>1</td>\n",
       "      <td>3</td>\n",
       "      <td>NaN</td>\n",
       "      <td>NaN</td>\n",
       "      <td>NaN</td>\n",
       "    </tr>\n",
       "    <tr>\n",
       "      <th>(1, 4)</th>\n",
       "      <td>5</td>\n",
       "      <td>1</td>\n",
       "      <td>4</td>\n",
       "      <td>NaN</td>\n",
       "      <td>NaN</td>\n",
       "      <td>NaN</td>\n",
       "    </tr>\n",
       "    <tr>\n",
       "      <th>(1, 5)</th>\n",
       "      <td>6</td>\n",
       "      <td>1</td>\n",
       "      <td>5</td>\n",
       "      <td>NaN</td>\n",
       "      <td>NaN</td>\n",
       "      <td>NaN</td>\n",
       "    </tr>\n",
       "  </tbody>\n",
       "</table>\n",
       "</div>"
      ],
      "text/plain": [
       "        sm  d1  d2  pd1  pd2    p\n",
       "(1, 1)   2   1   1  NaN  NaN  NaN\n",
       "(1, 2)   3   1   2  NaN  NaN  NaN\n",
       "(1, 3)   4   1   3  NaN  NaN  NaN\n",
       "(1, 4)   5   1   4  NaN  NaN  NaN\n",
       "(1, 5)   6   1   5  NaN  NaN  NaN"
      ]
     },
     "execution_count": 28,
     "metadata": {},
     "output_type": "execute_result"
    }
   ],
   "source": [
    "from pandas import DataFrame\n",
    "d = DataFrame(index=[(i,j) for i in range(1, 7) for j in range(1, 7)], \n",
    "              columns=['sm', 'd1', 'd2', 'pd1', 'pd2', 'p'])\n",
    "d.d1 = [i[0] for i in d.index]\n",
    "d.d2 = [i[1] for i in d.index]\n",
    "d.sm=list(map(sum, d.index))\n",
    "\n",
    "d.head(5)"
   ]
  },
  {
   "cell_type": "code",
   "execution_count": 33,
   "metadata": {
    "collapsed": false
   },
   "outputs": [
    {
     "data": {
      "text/html": [
       "<div>\n",
       "<table border=\"1\" class=\"dataframe\">\n",
       "  <thead>\n",
       "    <tr style=\"text-align: right;\">\n",
       "      <th></th>\n",
       "      <th>sm</th>\n",
       "      <th>d1</th>\n",
       "      <th>d2</th>\n",
       "      <th>pd1</th>\n",
       "      <th>pd2</th>\n",
       "      <th>p</th>\n",
       "    </tr>\n",
       "  </thead>\n",
       "  <tbody>\n",
       "    <tr>\n",
       "      <th>(1, 1)</th>\n",
       "      <td>2</td>\n",
       "      <td>1</td>\n",
       "      <td>1</td>\n",
       "      <td>0.111111</td>\n",
       "      <td>0.166667</td>\n",
       "      <td>NaN</td>\n",
       "    </tr>\n",
       "    <tr>\n",
       "      <th>(1, 2)</th>\n",
       "      <td>3</td>\n",
       "      <td>1</td>\n",
       "      <td>2</td>\n",
       "      <td>0.111111</td>\n",
       "      <td>0.166667</td>\n",
       "      <td>NaN</td>\n",
       "    </tr>\n",
       "    <tr>\n",
       "      <th>(1, 3)</th>\n",
       "      <td>4</td>\n",
       "      <td>1</td>\n",
       "      <td>3</td>\n",
       "      <td>0.111111</td>\n",
       "      <td>0.166667</td>\n",
       "      <td>NaN</td>\n",
       "    </tr>\n",
       "    <tr>\n",
       "      <th>(1, 4)</th>\n",
       "      <td>5</td>\n",
       "      <td>1</td>\n",
       "      <td>4</td>\n",
       "      <td>0.111111</td>\n",
       "      <td>0.166667</td>\n",
       "      <td>NaN</td>\n",
       "    </tr>\n",
       "    <tr>\n",
       "      <th>(1, 5)</th>\n",
       "      <td>6</td>\n",
       "      <td>1</td>\n",
       "      <td>5</td>\n",
       "      <td>0.111111</td>\n",
       "      <td>0.166667</td>\n",
       "      <td>NaN</td>\n",
       "    </tr>\n",
       "    <tr>\n",
       "      <th>(1, 6)</th>\n",
       "      <td>7</td>\n",
       "      <td>1</td>\n",
       "      <td>6</td>\n",
       "      <td>0.111111</td>\n",
       "      <td>0.166667</td>\n",
       "      <td>NaN</td>\n",
       "    </tr>\n",
       "    <tr>\n",
       "      <th>(2, 1)</th>\n",
       "      <td>3</td>\n",
       "      <td>2</td>\n",
       "      <td>1</td>\n",
       "      <td>0.111111</td>\n",
       "      <td>0.166667</td>\n",
       "      <td>NaN</td>\n",
       "    </tr>\n",
       "    <tr>\n",
       "      <th>(2, 2)</th>\n",
       "      <td>4</td>\n",
       "      <td>2</td>\n",
       "      <td>2</td>\n",
       "      <td>0.111111</td>\n",
       "      <td>0.166667</td>\n",
       "      <td>NaN</td>\n",
       "    </tr>\n",
       "    <tr>\n",
       "      <th>(2, 3)</th>\n",
       "      <td>5</td>\n",
       "      <td>2</td>\n",
       "      <td>3</td>\n",
       "      <td>0.111111</td>\n",
       "      <td>0.166667</td>\n",
       "      <td>NaN</td>\n",
       "    </tr>\n",
       "    <tr>\n",
       "      <th>(2, 4)</th>\n",
       "      <td>6</td>\n",
       "      <td>2</td>\n",
       "      <td>4</td>\n",
       "      <td>0.111111</td>\n",
       "      <td>0.166667</td>\n",
       "      <td>NaN</td>\n",
       "    </tr>\n",
       "    <tr>\n",
       "      <th>(2, 5)</th>\n",
       "      <td>7</td>\n",
       "      <td>2</td>\n",
       "      <td>5</td>\n",
       "      <td>0.111111</td>\n",
       "      <td>0.166667</td>\n",
       "      <td>NaN</td>\n",
       "    </tr>\n",
       "    <tr>\n",
       "      <th>(2, 6)</th>\n",
       "      <td>8</td>\n",
       "      <td>2</td>\n",
       "      <td>6</td>\n",
       "      <td>0.111111</td>\n",
       "      <td>0.166667</td>\n",
       "      <td>NaN</td>\n",
       "    </tr>\n",
       "    <tr>\n",
       "      <th>(3, 1)</th>\n",
       "      <td>4</td>\n",
       "      <td>3</td>\n",
       "      <td>1</td>\n",
       "      <td>0.111111</td>\n",
       "      <td>0.166667</td>\n",
       "      <td>NaN</td>\n",
       "    </tr>\n",
       "    <tr>\n",
       "      <th>(3, 2)</th>\n",
       "      <td>5</td>\n",
       "      <td>3</td>\n",
       "      <td>2</td>\n",
       "      <td>0.111111</td>\n",
       "      <td>0.166667</td>\n",
       "      <td>NaN</td>\n",
       "    </tr>\n",
       "    <tr>\n",
       "      <th>(3, 3)</th>\n",
       "      <td>6</td>\n",
       "      <td>3</td>\n",
       "      <td>3</td>\n",
       "      <td>0.111111</td>\n",
       "      <td>0.166667</td>\n",
       "      <td>NaN</td>\n",
       "    </tr>\n",
       "    <tr>\n",
       "      <th>(3, 4)</th>\n",
       "      <td>7</td>\n",
       "      <td>3</td>\n",
       "      <td>4</td>\n",
       "      <td>0.111111</td>\n",
       "      <td>0.166667</td>\n",
       "      <td>NaN</td>\n",
       "    </tr>\n",
       "    <tr>\n",
       "      <th>(3, 5)</th>\n",
       "      <td>8</td>\n",
       "      <td>3</td>\n",
       "      <td>5</td>\n",
       "      <td>0.111111</td>\n",
       "      <td>0.166667</td>\n",
       "      <td>NaN</td>\n",
       "    </tr>\n",
       "    <tr>\n",
       "      <th>(3, 6)</th>\n",
       "      <td>9</td>\n",
       "      <td>3</td>\n",
       "      <td>6</td>\n",
       "      <td>0.111111</td>\n",
       "      <td>0.166667</td>\n",
       "      <td>NaN</td>\n",
       "    </tr>\n",
       "    <tr>\n",
       "      <th>(4, 1)</th>\n",
       "      <td>5</td>\n",
       "      <td>4</td>\n",
       "      <td>1</td>\n",
       "      <td>0.222222</td>\n",
       "      <td>0.166667</td>\n",
       "      <td>NaN</td>\n",
       "    </tr>\n",
       "    <tr>\n",
       "      <th>(4, 2)</th>\n",
       "      <td>6</td>\n",
       "      <td>4</td>\n",
       "      <td>2</td>\n",
       "      <td>0.222222</td>\n",
       "      <td>0.166667</td>\n",
       "      <td>NaN</td>\n",
       "    </tr>\n",
       "  </tbody>\n",
       "</table>\n",
       "</div>"
      ],
      "text/plain": [
       "        sm  d1  d2       pd1       pd2    p\n",
       "(1, 1)   2   1   1  0.111111  0.166667  NaN\n",
       "(1, 2)   3   1   2  0.111111  0.166667  NaN\n",
       "(1, 3)   4   1   3  0.111111  0.166667  NaN\n",
       "(1, 4)   5   1   4  0.111111  0.166667  NaN\n",
       "(1, 5)   6   1   5  0.111111  0.166667  NaN\n",
       "(1, 6)   7   1   6  0.111111  0.166667  NaN\n",
       "(2, 1)   3   2   1  0.111111  0.166667  NaN\n",
       "(2, 2)   4   2   2  0.111111  0.166667  NaN\n",
       "(2, 3)   5   2   3  0.111111  0.166667  NaN\n",
       "(2, 4)   6   2   4  0.111111  0.166667  NaN\n",
       "(2, 5)   7   2   5  0.111111  0.166667  NaN\n",
       "(2, 6)   8   2   6  0.111111  0.166667  NaN\n",
       "(3, 1)   4   3   1  0.111111  0.166667  NaN\n",
       "(3, 2)   5   3   2  0.111111  0.166667  NaN\n",
       "(3, 3)   6   3   3  0.111111  0.166667  NaN\n",
       "(3, 4)   7   3   4  0.111111  0.166667  NaN\n",
       "(3, 5)   8   3   5  0.111111  0.166667  NaN\n",
       "(3, 6)   9   3   6  0.111111  0.166667  NaN\n",
       "(4, 1)   5   4   1  0.222222  0.166667  NaN\n",
       "(4, 2)   6   4   2  0.222222  0.166667  NaN"
      ]
     },
     "execution_count": 33,
     "metadata": {},
     "output_type": "execute_result"
    }
   ],
   "source": [
    "d.loc[d.d1 <= 3, 'pd1'] = 1/9.\n",
    "d.loc[d.d1 > 3, 'pd1'] = 2/9.\n",
    "d.pd2 = 1 / 6\n",
    "d.head(20)"
   ]
  },
  {
   "cell_type": "code",
   "execution_count": 34,
   "metadata": {
    "collapsed": false
   },
   "outputs": [
    {
     "data": {
      "text/html": [
       "<div>\n",
       "<table border=\"1\" class=\"dataframe\">\n",
       "  <thead>\n",
       "    <tr style=\"text-align: right;\">\n",
       "      <th></th>\n",
       "      <th>sm</th>\n",
       "      <th>d1</th>\n",
       "      <th>d2</th>\n",
       "      <th>pd1</th>\n",
       "      <th>pd2</th>\n",
       "      <th>p</th>\n",
       "    </tr>\n",
       "  </thead>\n",
       "  <tbody>\n",
       "    <tr>\n",
       "      <th>(1, 1)</th>\n",
       "      <td>2</td>\n",
       "      <td>1</td>\n",
       "      <td>1</td>\n",
       "      <td>0.111111</td>\n",
       "      <td>0.166667</td>\n",
       "      <td>0.0185185</td>\n",
       "    </tr>\n",
       "    <tr>\n",
       "      <th>(1, 2)</th>\n",
       "      <td>3</td>\n",
       "      <td>1</td>\n",
       "      <td>2</td>\n",
       "      <td>0.111111</td>\n",
       "      <td>0.166667</td>\n",
       "      <td>0.0185185</td>\n",
       "    </tr>\n",
       "    <tr>\n",
       "      <th>(1, 3)</th>\n",
       "      <td>4</td>\n",
       "      <td>1</td>\n",
       "      <td>3</td>\n",
       "      <td>0.111111</td>\n",
       "      <td>0.166667</td>\n",
       "      <td>0.0185185</td>\n",
       "    </tr>\n",
       "    <tr>\n",
       "      <th>(1, 4)</th>\n",
       "      <td>5</td>\n",
       "      <td>1</td>\n",
       "      <td>4</td>\n",
       "      <td>0.111111</td>\n",
       "      <td>0.166667</td>\n",
       "      <td>0.0185185</td>\n",
       "    </tr>\n",
       "    <tr>\n",
       "      <th>(1, 5)</th>\n",
       "      <td>6</td>\n",
       "      <td>1</td>\n",
       "      <td>5</td>\n",
       "      <td>0.111111</td>\n",
       "      <td>0.166667</td>\n",
       "      <td>0.0185185</td>\n",
       "    </tr>\n",
       "  </tbody>\n",
       "</table>\n",
       "</div>"
      ],
      "text/plain": [
       "        sm  d1  d2       pd1       pd2          p\n",
       "(1, 1)   2   1   1  0.111111  0.166667  0.0185185\n",
       "(1, 2)   3   1   2  0.111111  0.166667  0.0185185\n",
       "(1, 3)   4   1   3  0.111111  0.166667  0.0185185\n",
       "(1, 4)   5   1   4  0.111111  0.166667  0.0185185\n",
       "(1, 5)   6   1   5  0.111111  0.166667  0.0185185"
      ]
     },
     "execution_count": 34,
     "metadata": {},
     "output_type": "execute_result"
    }
   ],
   "source": [
    "d.p = d.pd1 * d.pd2\n",
    "d.head(5)"
   ]
  },
  {
   "cell_type": "code",
   "execution_count": 35,
   "metadata": {
    "collapsed": false
   },
   "outputs": [
    {
     "data": {
      "text/plain": [
       "sm\n",
       "2     0.018519\n",
       "3     0.037037\n",
       "4     0.055556\n",
       "5     0.092593\n",
       "6     0.129630\n",
       "7     0.166667\n",
       "8     0.148148\n",
       "9     0.129630\n",
       "10    0.111111\n",
       "11    0.074074\n",
       "12    0.037037\n",
       "Name: p, dtype: float64"
      ]
     },
     "execution_count": 35,
     "metadata": {},
     "output_type": "execute_result"
    }
   ],
   "source": [
    "d.groupby('sm')['p'].sum()"
   ]
  },
  {
   "cell_type": "markdown",
   "metadata": {},
   "source": [
    "# 独立"
   ]
  },
  {
   "cell_type": "code",
   "execution_count": 36,
   "metadata": {
    "collapsed": false
   },
   "outputs": [
    {
     "data": {
      "text/plain": [
       "0.13100000000000001"
      ]
     },
     "execution_count": 36,
     "metadata": {},
     "output_type": "execute_result"
    }
   ],
   "source": [
    "import numpy as np\n",
    "x, y = np.random.rand(2, 1000)\n",
    "a, b, c = x, (y-x), 1-y\n",
    "s = (a+b+c) / 2\n",
    "np.mean((s>a) & (s>b) & (s>c) & (y>x))"
   ]
  },
  {
   "cell_type": "code",
   "execution_count": 40,
   "metadata": {
    "collapsed": false
   },
   "outputs": [
    {
     "name": "stdout",
     "output_type": "stream",
     "text": [
      "y + 1/2\n",
      "x + 1/2\n",
      "(3*y + 2)/(6*y + 3)\n",
      "-log(3)/144 + 1/12\n"
     ]
    }
   ],
   "source": [
    "from sympy.abc import x,y\n",
    "from sympy import integrate, simplify\n",
    "\n",
    "fxy = x + y\n",
    "fy = integrate(fxy, (x, 0, 1))\n",
    "fx = integrate(fxy, (y, 0, 1))\n",
    "print(fy)\n",
    "print(fx)\n",
    "EXY = ( 3*y+2 ) / ( 6*y+3 )\n",
    "\n",
    "print(EXY)\n",
    "LHS=integrate((x - EXY)**2*fxy, (x, 0, 1), (y, 0, 1))\n",
    "print(LHS)"
   ]
  },
  {
   "cell_type": "code",
   "execution_count": 43,
   "metadata": {
    "collapsed": false
   },
   "outputs": [
    {
     "name": "stdout",
     "output_type": "stream",
     "text": [
      "-log(3)/144 + 1/12\n"
     ]
    }
   ],
   "source": [
    "RHS=integrate((x)**2*fx, (x, 0, 1)) - integrate((EXY)**2*fy, (y, 0, 1))\n",
    "print(RHS)"
   ]
  },
  {
   "cell_type": "markdown",
   "metadata": {},
   "source": [
    "# 条件付き期待値と平均二乗誤差"
   ]
  },
  {
   "cell_type": "code",
   "execution_count": 49,
   "metadata": {
    "collapsed": false
   },
   "outputs": [
    {
     "name": "stdout",
     "output_type": "stream",
     "text": [
      "D1\n",
      "D2\n",
      "D1 + D2\n",
      "329*a**2/6 - 329*a/6 + 91/6\n",
      "1/2\n"
     ]
    }
   ],
   "source": [
    "import sympy as S\n",
    "from sympy.stats import density, E, Die\n",
    "x = Die('D1', 6)\n",
    "print(x)\n",
    "y = Die('D2', 6)\n",
    "print(y)\n",
    "a = S.symbols('a')\n",
    "z = x + y\n",
    "print(z)\n",
    "J = E((x - a*(x+y)) ** 2)\n",
    "print(S.simplify(J))\n",
    "sol, = S.solve(S.diff(J, a), a)\n",
    "print(sol)"
   ]
  },
  {
   "cell_type": "code",
   "execution_count": 50,
   "metadata": {
    "collapsed": false
   },
   "outputs": [
    {
     "name": "stdout",
     "output_type": "stream",
     "text": [
      "MSE=9.71 using 6 vs MSE=3.01 using 7 / 2\n"
     ]
    }
   ],
   "source": [
    "import numpy as np\n",
    "from sympy import stats\n",
    "sample_z7 = lambda: stats.sample(x, S.Eq(z, 7))\n",
    "mn = np.mean([(6 - sample_z7()) ** 2 for i in range(100)])\n",
    "mn0 = np.mean([(7/2. - sample_z7()) ** 2 for i in range(100)])\n",
    "print(\"MSE=%3.2f using 6 vs MSE=%3.2f using 7 / 2\" %(mn, mn0))"
   ]
  },
  {
   "cell_type": "code",
   "execution_count": 51,
   "metadata": {
    "collapsed": false
   },
   "outputs": [
    {
     "data": {
      "text/plain": [
       "5.00000000000000"
      ]
     },
     "execution_count": 51,
     "metadata": {},
     "output_type": "execute_result"
    }
   ],
   "source": [
    "x = stats.FiniteRV('D3', {1:1/15., 2:1/15.,\n",
    "                          3:1/15., 4:1/15.,\n",
    "                          5:1/15., 6:2/3.})\n",
    "E(x, S.Eq(z, 7))"
   ]
  },
  {
   "cell_type": "code",
   "execution_count": 54,
   "metadata": {
    "collapsed": false
   },
   "outputs": [
    {
     "name": "stdout",
     "output_type": "stream",
     "text": [
      "MSE=3.30 using 6 vs MSE=2.09 using 7 / 2\n"
     ]
    }
   ],
   "source": [
    "sample_z7 = lambda: stats.sample(x, S.Eq(z,7))\n",
    "mn = np.mean([(6 - sample_z7()) ** 2 for i in range(100)])\n",
    "mn0 = np.mean([(5 - sample_z7()) ** 2 for i in range(100)])\n",
    "print(\"MSE=%3.2f using 6 vs MSE=%3.2f using 7 / 2\" %(mn, mn0))"
   ]
  },
  {
   "cell_type": "code",
   "execution_count": 60,
   "metadata": {
    "collapsed": false
   },
   "outputs": [
    {
     "name": "stdout",
     "output_type": "stream",
     "text": [
      "160/3\n",
      "52.8426395939\n"
     ]
    }
   ],
   "source": [
    "import sympy as S\n",
    "X10, X20, X50 = S.symbols(\"X10, X20, X50\", real=True)\n",
    "xi = 10*X10 + 20*X20 + 50*X50\n",
    "eta = X10*X20*(1- X50) + X10*(1 - X20)*X50 + (1 - X10)*X20*X50 \n",
    "num = S.summation(xi*eta, (X10, 0, 1), (X20, 0, 1), (X50, 0, 1))\n",
    "den = S.summation(eta*eta, (X10, 0, 1), (X20, 0, 1), (X50, 0, 1))\n",
    "alpha=num/den\n",
    "print(alpha)\n",
    "import pandas as pd\n",
    "d = pd.DataFrame(columns=[\"X10\", \"X20\", \"X50\"])\n",
    "d.X10 = np.random.randint(0, 2 , 1000)\n",
    "d.X20 = np.random.randint(0, 2 , 1000)\n",
    "d.X50 = np.random.randint(0, 2 , 1000)\n",
    "grp = d.groupby(d.eval(\"X10+X20+X50\"))\n",
    "#print(grp.get_group(2))\n",
    "print(grp.get_group(2).eval(\"10*X10+20*X20+50*X50\").mean())"
   ]
  },
  {
   "cell_type": "code",
   "execution_count": 64,
   "metadata": {
    "collapsed": false
   },
   "outputs": [
    {
     "name": "stdout",
     "output_type": "stream",
     "text": [
      "52.8912466844\n"
     ]
    }
   ],
   "source": [
    "from numpy import array\n",
    "x = np.random.randint(0,2, (3, 1000))\n",
    "print(np.dot(x[:, x.sum(axis=0)==2].T, array([10, 20, 50])).mean())"
   ]
  },
  {
   "cell_type": "code",
   "execution_count": 74,
   "metadata": {
    "collapsed": false
   },
   "outputs": [
    {
     "name": "stdout",
     "output_type": "stream",
     "text": [
      "{b: 25, a: 1}\n",
      "30*X10*X20 + 10*X10*(-X20 + 1) + 20*X20*(-X10 + 1)\n",
      "-100*X10**2*a + 100*X10**2 - 400*X10*X20*a + 400*X10*X20 + 500*X10*X50 - 10*X10*b - 400*X20**2*a + 400*X20**2 + 1000*X20*X50 - 20*X20*b\n"
     ]
    }
   ],
   "source": [
    "from sympy.abc import a, b\n",
    "h = a*eta + b\n",
    "eta = X10*X20*30 + X10*(1-X20)*10 + (1-X10)*X20*20\n",
    "MSE=S.summation((xi-h)**2*S.Rational(1, 8), (X10, 0, 1),\n",
    "               (X20, 0, 1),\n",
    "               (X50, 0, 1))\n",
    "sol=S.solve([S.diff(MSE, a), S.diff(MSE, b)], (a,b))\n",
    "print(sol)\n",
    "print(eta)\n",
    "expr = expr=S.expand((xi - h )*eta)\n",
    "print(expr)"
   ]
  },
  {
   "cell_type": "code",
   "execution_count": 75,
   "metadata": {
    "collapsed": false
   },
   "outputs": [
    {
     "data": {
      "text/plain": [
       "-350.0*a - 15.0*b + 725.0"
      ]
     },
     "execution_count": 75,
     "metadata": {},
     "output_type": "execute_result"
    }
   ],
   "source": [
    "expr.xreplace({X10**2:0.5, X20**2:0.5, X10:0.5, X20:0.5, X50:0.5})"
   ]
  },
  {
   "cell_type": "code",
   "execution_count": 76,
   "metadata": {
    "collapsed": false,
    "scrolled": true
   },
   "outputs": [
    {
     "name": "stdout",
     "output_type": "stream",
     "text": [
      "-15.0*a - b + 40.0\n"
     ]
    }
   ],
   "source": [
    "print(S.expand((xi - h)*1).xreplace({X10**2:0.5,\n",
    "                                     X20**2:0.5,\n",
    "                                     X10:0.5,\n",
    "                                     X20:0.5,\n",
    "                                     X50:0.5,}))"
   ]
  },
  {
   "cell_type": "code",
   "execution_count": 77,
   "metadata": {
    "collapsed": false
   },
   "outputs": [
    {
     "name": "stdout",
     "output_type": "stream",
     "text": [
      "{b: 25.0000000000000, a: 1.00000000000000}\n"
     ]
    }
   ],
   "source": [
    "print(S.solve([-350.0*a - 15.0*b + 725.0, -15.0*a - b + 40.0]))"
   ]
  },
  {
   "cell_type": "code",
   "execution_count": 80,
   "metadata": {
    "collapsed": true
   },
   "outputs": [],
   "source": [
    "d[\"sm\"] = d.eval(\"X10*10+X20*20\")"
   ]
  },
  {
   "cell_type": "code",
   "execution_count": 81,
   "metadata": {
    "collapsed": false
   },
   "outputs": [
    {
     "name": "stdout",
     "output_type": "stream",
     "text": [
      "    X10  X20       X50\n",
      "sm                    \n",
      "0   0.0  0.0  0.553785\n",
      "10  1.0  0.0  0.484375\n",
      "20  0.0  1.0  0.530120\n",
      "30  1.0  1.0  0.434426\n"
     ]
    }
   ],
   "source": [
    "print(d.groupby(\"sm\").mean())"
   ]
  },
  {
   "cell_type": "code",
   "execution_count": 82,
   "metadata": {
    "collapsed": false
   },
   "outputs": [
    {
     "name": "stdout",
     "output_type": "stream",
     "text": [
      "sm\n",
      "0     27.689243\n",
      "10    34.218750\n",
      "20    46.506024\n",
      "30    51.721311\n",
      "dtype: float64\n"
     ]
    }
   ],
   "source": [
    "print(d.groupby(\"sm\").mean().eval(\"10*X10+20*X20+50*X50\"))"
   ]
  },
  {
   "cell_type": "code",
   "execution_count": 93,
   "metadata": {
    "collapsed": false
   },
   "outputs": [
    {
     "name": "stdout",
     "output_type": "stream",
     "text": [
      "{b: -20/9, c: 8/9, a: 38/27}\n",
      "Piecewise((2/27, And(x < 1/3, x > 0)), (14/27, And(x < 2/3, x > 1/3)), (38/27, And(x < 1, x > 2/3)))\n",
      "{b: 11.8518518518519, c: -0.938271604938272, a: -6.14814814814815}\n"
     ]
    }
   ],
   "source": [
    "x,c,b,a = S.symbols(\"x,c,b,a\")\n",
    "xi = 2*x**2\n",
    "\n",
    "eta = S.Piecewise((1, S.And(S.Gt(x, 0),\n",
    "                             S.Lt(x, S.Rational(1, 3)))),\n",
    "                  (2, S.And(S.Gt(x, S.Rational(1, 3)),\n",
    "                             S.Lt(x, S.Rational(2, 3)))),\n",
    "                  (0, S.And(S.Gt(x, S.Rational(2, 3)),\n",
    "                             S.Lt(x, 1))))\n",
    "h = a + b*eta + c * eta**2\n",
    "J=S.integrate((xi-h)**2, (x, 0, 1))\n",
    "sol=S.solve([S.diff(J, a), S.diff(J, b), S.diff(J, c),], (a, b, c))\n",
    "print(sol)\n",
    "print(S.piecewise_fold(h.subs(sol)))\n",
    "h = c + b*eta + a * eta**2\n",
    "S.integrate((xi - h)*1, (x, 0, 1))\n",
    "S.integrate((xi - h)*eta**2, (x, 0, 1))\n",
    "eps=[ -5 * a/3 - b- c + 2/3,\n",
    "    -3*a - 5*b/3 -c + 10/27,\n",
    "    -17*a/3 - 3*b + 58/81]\n",
    "sol=S.solve(eps)\n",
    "print(sol)"
   ]
  },
  {
   "cell_type": "code",
   "execution_count": 94,
   "metadata": {
    "collapsed": false
   },
   "outputs": [
    {
     "name": "stdout",
     "output_type": "stream",
     "text": [
      "Piecewise((4.76543209876543, And(x < 1/3, x > 0)), (-1.82716049382716, And(x < 2/3, x > 1/3)), (-0.938271604938272, And(x < 1, x > 2/3)))\n"
     ]
    }
   ],
   "source": [
    "print(S.piecewise_fold(h.subs(sol)))"
   ]
  },
  {
   "cell_type": "code",
   "execution_count": 96,
   "metadata": {
    "collapsed": false
   },
   "outputs": [
    {
     "data": {
      "text/plain": [
       "x\n",
       "(0, 0.333]        0.070806\n",
       "(0.333, 0.667]    0.511241\n",
       "(0.667, 1]        1.406698\n",
       "Name: xi, dtype: float64"
      ]
     },
     "execution_count": 96,
     "metadata": {},
     "output_type": "execute_result"
    }
   ],
   "source": [
    "d = pd.DataFrame(columns=[\"x\", \"eta\", \"xi\"])\n",
    "d.x = np.random.rand(1000)\n",
    "d.xi = 2*d.x**2\n",
    "pd.cut(d.x, [0, 1/3, 2/3, 1]).head()\n",
    "d.groupby(pd.cut(d.x, [0, 1/3, 2/3, 1])).mean()[\"xi\"]"
   ]
  },
  {
   "cell_type": "code",
   "execution_count": 98,
   "metadata": {
    "collapsed": false
   },
   "outputs": [
    {
     "name": "stdout",
     "output_type": "stream",
     "text": [
      "2/27\n",
      "14/27\n",
      "38/27\n"
     ]
    }
   ],
   "source": [
    "from sympy.stats import E, Uniform\n",
    "x = Uniform(\"x\", 0, 1)\n",
    "print(E(2*x**2, S.And(x < S.Rational(1, 3), x > 0)))\n",
    "print(E(2*x**2, S.And(x < S.Rational(2, 3), x > S.Rational(1,3))))\n",
    "print(E(2*x**2, S.And(x < 1, x > S.Rational(2,3))))"
   ]
  },
  {
   "cell_type": "code",
   "execution_count": 112,
   "metadata": {
    "collapsed": false
   },
   "outputs": [
    {
     "name": "stdout",
     "output_type": "stream",
     "text": [
      "         xi       eta         x         h        h1        h2\n",
      "0  0.000971  0.044069  0.022035  0.000971  0.000971  0.000000\n",
      "1  0.809204  0.727834  0.636083  1.757575  0.000000  1.757575\n",
      "2  0.027012  0.232431  0.116215  0.027012  0.027012  0.000000\n",
      "3  0.978466  0.601096  0.699452  1.462413  0.000000  1.462413\n",
      "4  0.000003  0.002630  0.001315  0.000003  0.000003  0.000000\n"
     ]
    }
   ],
   "source": [
    "from pandas import DataFrame\n",
    "import numpy as np\n",
    "d = DataFrame(columns=[\"xi\", \"eta\", \"x\", \"h\", \"h1\", \"h2\"])\n",
    "d.x = np.random.rand(100)\n",
    "d.xi = d.eval(\"2*x**2\")\n",
    "d.eta = 1 - abs(2*d.x - 1)\n",
    "d.h1 = d[(d.x < 0.5)].eval(\"eta**2/2\")\n",
    "#d.h2 = d[(d.x >= 0.5)].eval(\"(2-eta)**2/2\")\n",
    "d.h2 = d[(d.x > 0.5)].eval(\"1/2 + eta + eta**2\")\n",
    "d.fillna(0, inplace=True)\n",
    "d.h = d.h1+d.h2\n",
    "print(d.head())"
   ]
  },
  {
   "cell_type": "code",
   "execution_count": 113,
   "metadata": {
    "collapsed": false
   },
   "outputs": [
    {
     "name": "stderr",
     "output_type": "stream",
     "text": [
      "/usr/local/lib/python3.4/dist-packages/matplotlib/__init__.py:1357: UserWarning:  This call to matplotlib.use() has no effect\n",
      "because the backend has already been chosen;\n",
      "matplotlib.use() must be called *before* pylab, matplotlib.pyplot,\n",
      "or matplotlib.backends is imported for the first time.\n",
      "\n",
      "  warnings.warn(_use_error_msg)\n"
     ]
    },
    {
     "data": {
      "text/plain": [
       "<matplotlib.text.Text at 0x7f57bd771c18>"
      ]
     },
     "execution_count": 113,
     "metadata": {},
     "output_type": "execute_result"
    },
    {
     "data": {
      "image/png": "[encoded data removed]",
      "text/plain": [
       "<matplotlib.figure.Figure at 0x7f57c115eda0>"
      ]
     },
     "metadata": {},
     "output_type": "display_data"
    }
   ],
   "source": [
    "import matplotlib\n",
    "matplotlib.use('Agg')\n",
    "from matplotlib.pyplot import subplots\n",
    "import matplotlib.pyplot as plt\n",
    "%matplotlib inline\n",
    "fig, ax = subplots()\n",
    "ax.plot(d.xi, d.eta, \".\", alpha=.3, label=\"$\\eta$\")\n",
    "ax.plot(d.xi, d.h, \".\", label=\"$h(\\eta)$\")\n",
    "ax.legend(loc=0, fontsize=18)\n",
    "ax.set_xlabel(\"$2 x^2$\", fontsize=18)\n",
    "ax.set_ylabel(\"$h(\\eta)$\", fontsize=18)"
   ]
  },
  {
   "cell_type": "code",
   "execution_count": 104,
   "metadata": {
    "collapsed": false
   },
   "outputs": [
    {
     "data": {
      "text/plain": [
       "[<matplotlib.lines.Line2D at 0x7f57c12436d8>]"
      ]
     },
     "execution_count": 104,
     "metadata": {},
     "output_type": "execute_result"
    }
   ],
   "source": [
    ""
   ]
  },
  {
   "cell_type": "code",
   "execution_count": null,
   "metadata": {
    "collapsed": true
   },
   "outputs": [],
   "source": [
    ""
   ]
  }
 ],
 "metadata": {
  "kernelspec": {
   "display_name": "Python 3",
   "language": "python",
   "name": "python3"
  },
  "language_info": {
   "codemirror_mode": {
    "name": "ipython",
    "version": 3.0
   },
   "file_extension": ".py",
   "mimetype": "text/x-python",
   "name": "python",
   "nbconvert_exporter": "python",
   "pygments_lexer": "ipython3",
   "version": "3.4.3"
  }
 },
 "nbformat": 4,
 "nbformat_minor": 0
}