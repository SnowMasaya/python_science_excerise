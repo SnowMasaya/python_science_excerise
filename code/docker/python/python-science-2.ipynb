{
 "cells": [
  {
   "cell_type": "markdown",
   "metadata": {},
   "source": [
    "# Probablity"
   ]
  },
  {
   "cell_type": "code",
   "execution_count": 12,
   "metadata": {
    "collapsed": false
   },
   "outputs": [
    {
     "name": "stdout",
     "output_type": "stream",
     "text": [
      "defaultdict(<class 'list'>, {2: [(1, 1)], 3: [(2, 1), (1, 2)], 4: [(1, 3), (3, 1), (2, 2)], 5: [(3, 2), (1, 4), (2, 3), (4, 1)], 6: [(5, 1), (4, 2), (3, 3), (1, 5), (2, 4)], 7: [(1, 6), (2, 5), (3, 4), (6, 1), (5, 2), (4, 3)], 8: [(2, 6), (3, 5), (4, 4), (6, 2), (5, 3)], 9: [(3, 6), (4, 5), (5, 4), (6, 3)], 10: [(6, 4), (4, 6), (5, 5)], 11: [(6, 5), (5, 6)], 12: [(6, 6)]})\n",
      "[(1, 6), (2, 5), (3, 4), (6, 1), (5, 2), (4, 3)]\n",
      "{2: 0.027777777777777776, 3: 0.05555555555555555, 4: 0.08333333333333333, 5: 0.1111111111111111, 6: 0.1388888888888889, 7: 0.16666666666666666, 8: 0.1388888888888889, 9: 0.1111111111111111, 10: 0.08333333333333333, 11: 0.05555555555555555, 12: 0.027777777777777776}\n"
     ]
    }
   ],
   "source": [
    "d = {(i, j): i + j for i in range(1, 7) for j in range(1, 7)}\n",
    "from collections import defaultdict\n",
    "dinv = defaultdict(list)\n",
    "for key, value in d.items():\n",
    "    dinv[value].append(key)\n",
    "print(dinv)\n",
    "print(dinv[7])\n",
    "X={i:len(j)/36. for i,j in dinv.items()}\n",
    "print(X)"
   ]
  },
  {
   "cell_type": "code",
   "execution_count": 15,
   "metadata": {
    "collapsed": false
   },
   "outputs": [
    {
     "name": "stdout",
     "output_type": "stream",
     "text": [
      "{False: 0.37037037037037035, True: 0.6296296296296297}\n"
     ]
    }
   ],
   "source": [
    "d = {(i, j, k): ((i*j*k) / 2 > i+j+k) for i in range(1, 7) \n",
    "                                              for j in range(1,7)\n",
    "                                                 for k in range(1,7)}\n",
    "dinv = defaultdict(list)\n",
    "for i, j in d.items(): dinv[j].append(i)\n",
    "X = {i:len(j)/ 6.0**3 for i, j in dinv.items() }\n",
    "print(X)"
   ]
  },
  {
   "cell_type": "code",
   "execution_count": 28,
   "metadata": {
    "collapsed": false
   },
   "outputs": [
    {
     "data": {
      "text/html": [
       "<div>\n",
       "<table border=\"1\" class=\"dataframe\">\n",
       "  <thead>\n",
       "    <tr style=\"text-align: right;\">\n",
       "      <th></th>\n",
       "      <th>sm</th>\n",
       "      <th>d1</th>\n",
       "      <th>d2</th>\n",
       "      <th>pd1</th>\n",
       "      <th>pd2</th>\n",
       "      <th>p</th>\n",
       "    </tr>\n",
       "  </thead>\n",
       "  <tbody>\n",
       "    <tr>\n",
       "      <th>(1, 1)</th>\n",
       "      <td>2</td>\n",
       "      <td>1</td>\n",
       "      <td>1</td>\n",
       "      <td>NaN</td>\n",
       "      <td>NaN</td>\n",
       "      <td>NaN</td>\n",
       "    </tr>\n",
       "    <tr>\n",
       "      <th>(1, 2)</th>\n",
       "      <td>3</td>\n",
       "      <td>1</td>\n",
       "      <td>2</td>\n",
       "      <td>NaN</td>\n",
       "      <td>NaN</td>\n",
       "      <td>NaN</td>\n",
       "    </tr>\n",
       "    <tr>\n",
       "      <th>(1, 3)</th>\n",
       "      <td>4</td>\n",
       "      <td>1</td>\n",
       "      <td>3</td>\n",
       "      <td>NaN</td>\n",
       "      <td>NaN</td>\n",
       "      <td>NaN</td>\n",
       "    </tr>\n",
       "    <tr>\n",
       "      <th>(1, 4)</th>\n",
       "      <td>5</td>\n",
       "      <td>1</td>\n",
       "      <td>4</td>\n",
       "      <td>NaN</td>\n",
       "      <td>NaN</td>\n",
       "      <td>NaN</td>\n",
       "    </tr>\n",
       "    <tr>\n",
       "      <th>(1, 5)</th>\n",
       "      <td>6</td>\n",
       "      <td>1</td>\n",
       "      <td>5</td>\n",
       "      <td>NaN</td>\n",
       "      <td>NaN</td>\n",
       "      <td>NaN</td>\n",
       "    </tr>\n",
       "  </tbody>\n",
       "</table>\n",
       "</div>"
      ],
      "text/plain": [
       "        sm  d1  d2  pd1  pd2    p\n",
       "(1, 1)   2   1   1  NaN  NaN  NaN\n",
       "(1, 2)   3   1   2  NaN  NaN  NaN\n",
       "(1, 3)   4   1   3  NaN  NaN  NaN\n",
       "(1, 4)   5   1   4  NaN  NaN  NaN\n",
       "(1, 5)   6   1   5  NaN  NaN  NaN"
      ]
     },
     "execution_count": 28,
     "metadata": {},
     "output_type": "execute_result"
    }
   ],
   "source": [
    "from pandas import DataFrame\n",
    "d = DataFrame(index=[(i,j) for i in range(1, 7) for j in range(1, 7)], \n",
    "              columns=['sm', 'd1', 'd2', 'pd1', 'pd2', 'p'])\n",
    "d.d1 = [i[0] for i in d.index]\n",
    "d.d2 = [i[1] for i in d.index]\n",
    "d.sm=list(map(sum, d.index))\n",
    "\n",
    "d.head(5)"
   ]
  },
  {
   "cell_type": "code",
   "execution_count": 33,
   "metadata": {
    "collapsed": false
   },
   "outputs": [
    {
     "data": {
      "text/html": [
       "<div>\n",
       "<table border=\"1\" class=\"dataframe\">\n",
       "  <thead>\n",
       "    <tr style=\"text-align: right;\">\n",
       "      <th></th>\n",
       "      <th>sm</th>\n",
       "      <th>d1</th>\n",
       "      <th>d2</th>\n",
       "      <th>pd1</th>\n",
       "      <th>pd2</th>\n",
       "      <th>p</th>\n",
       "    </tr>\n",
       "  </thead>\n",
       "  <tbody>\n",
       "    <tr>\n",
       "      <th>(1, 1)</th>\n",
       "      <td>2</td>\n",
       "      <td>1</td>\n",
       "      <td>1</td>\n",
       "      <td>0.111111</td>\n",
       "      <td>0.166667</td>\n",
       "      <td>NaN</td>\n",
       "    </tr>\n",
       "    <tr>\n",
       "      <th>(1, 2)</th>\n",
       "      <td>3</td>\n",
       "      <td>1</td>\n",
       "      <td>2</td>\n",
       "      <td>0.111111</td>\n",
       "      <td>0.166667</td>\n",
       "      <td>NaN</td>\n",
       "    </tr>\n",
       "    <tr>\n",
       "      <th>(1, 3)</th>\n",
       "      <td>4</td>\n",
       "      <td>1</td>\n",
       "      <td>3</td>\n",
       "      <td>0.111111</td>\n",
       "      <td>0.166667</td>\n",
       "      <td>NaN</td>\n",
       "    </tr>\n",
       "    <tr>\n",
       "      <th>(1, 4)</th>\n",
       "      <td>5</td>\n",
       "      <td>1</td>\n",
       "      <td>4</td>\n",
       "      <td>0.111111</td>\n",
       "      <td>0.166667</td>\n",
       "      <td>NaN</td>\n",
       "    </tr>\n",
       "    <tr>\n",
       "      <th>(1, 5)</th>\n",
       "      <td>6</td>\n",
       "      <td>1</td>\n",
       "      <td>5</td>\n",
       "      <td>0.111111</td>\n",
       "      <td>0.166667</td>\n",
       "      <td>NaN</td>\n",
       "    </tr>\n",
       "    <tr>\n",
       "      <th>(1, 6)</th>\n",
       "      <td>7</td>\n",
       "      <td>1</td>\n",
       "      <td>6</td>\n",
       "      <td>0.111111</td>\n",
       "      <td>0.166667</td>\n",
       "      <td>NaN</td>\n",
       "    </tr>\n",
       "    <tr>\n",
       "      <th>(2, 1)</th>\n",
       "      <td>3</td>\n",
       "      <td>2</td>\n",
       "      <td>1</td>\n",
       "      <td>0.111111</td>\n",
       "      <td>0.166667</td>\n",
       "      <td>NaN</td>\n",
       "    </tr>\n",
       "    <tr>\n",
       "      <th>(2, 2)</th>\n",
       "      <td>4</td>\n",
       "      <td>2</td>\n",
       "      <td>2</td>\n",
       "      <td>0.111111</td>\n",
       "      <td>0.166667</td>\n",
       "      <td>NaN</td>\n",
       "    </tr>\n",
       "    <tr>\n",
       "      <th>(2, 3)</th>\n",
       "      <td>5</td>\n",
       "      <td>2</td>\n",
       "      <td>3</td>\n",
       "      <td>0.111111</td>\n",
       "      <td>0.166667</td>\n",
       "      <td>NaN</td>\n",
       "    </tr>\n",
       "    <tr>\n",
       "      <th>(2, 4)</th>\n",
       "      <td>6</td>\n",
       "      <td>2</td>\n",
       "      <td>4</td>\n",
       "      <td>0.111111</td>\n",
       "      <td>0.166667</td>\n",
       "      <td>NaN</td>\n",
       "    </tr>\n",
       "    <tr>\n",
       "      <th>(2, 5)</th>\n",
       "      <td>7</td>\n",
       "      <td>2</td>\n",
       "      <td>5</td>\n",
       "      <td>0.111111</td>\n",
       "      <td>0.166667</td>\n",
       "      <td>NaN</td>\n",
       "    </tr>\n",
       "    <tr>\n",
       "      <th>(2, 6)</th>\n",
       "      <td>8</td>\n",
       "      <td>2</td>\n",
       "      <td>6</td>\n",
       "      <td>0.111111</td>\n",
       "      <td>0.166667</td>\n",
       "      <td>NaN</td>\n",
       "    </tr>\n",
       "    <tr>\n",
       "      <th>(3, 1)</th>\n",
       "      <td>4</td>\n",
       "      <td>3</td>\n",
       "      <td>1</td>\n",
       "      <td>0.111111</td>\n",
       "      <td>0.166667</td>\n",
       "      <td>NaN</td>\n",
       "    </tr>\n",
       "    <tr>\n",
       "      <th>(3, 2)</th>\n",
       "      <td>5</td>\n",
       "      <td>3</td>\n",
       "      <td>2</td>\n",
       "      <td>0.111111</td>\n",
       "      <td>0.166667</td>\n",
       "      <td>NaN</td>\n",
       "    </tr>\n",
       "    <tr>\n",
       "      <th>(3, 3)</th>\n",
       "      <td>6</td>\n",
       "      <td>3</td>\n",
       "      <td>3</td>\n",
       "      <td>0.111111</td>\n",
       "      <td>0.166667</td>\n",
       "      <td>NaN</td>\n",
       "    </tr>\n",
       "    <tr>\n",
       "      <th>(3, 4)</th>\n",
       "      <td>7</td>\n",
       "      <td>3</td>\n",
       "      <td>4</td>\n",
       "      <td>0.111111</td>\n",
       "      <td>0.166667</td>\n",
       "      <td>NaN</td>\n",
       "    </tr>\n",
       "    <tr>\n",
       "      <th>(3, 5)</th>\n",
       "      <td>8</td>\n",
       "      <td>3</td>\n",
       "      <td>5</td>\n",
       "      <td>0.111111</td>\n",
       "      <td>0.166667</td>\n",
       "      <td>NaN</td>\n",
       "    </tr>\n",
       "    <tr>\n",
       "      <th>(3, 6)</th>\n",
       "      <td>9</td>\n",
       "      <td>3</td>\n",
       "      <td>6</td>\n",
       "      <td>0.111111</td>\n",
       "      <td>0.166667</td>\n",
       "      <td>NaN</td>\n",
       "    </tr>\n",
       "    <tr>\n",
       "      <th>(4, 1)</th>\n",
       "      <td>5</td>\n",
       "      <td>4</td>\n",
       "      <td>1</td>\n",
       "      <td>0.222222</td>\n",
       "      <td>0.166667</td>\n",
       "      <td>NaN</td>\n",
       "    </tr>\n",
       "    <tr>\n",
       "      <th>(4, 2)</th>\n",
       "      <td>6</td>\n",
       "      <td>4</td>\n",
       "      <td>2</td>\n",
       "      <td>0.222222</td>\n",
       "      <td>0.166667</td>\n",
       "      <td>NaN</td>\n",
       "    </tr>\n",
       "  </tbody>\n",
       "</table>\n",
       "</div>"
      ],
      "text/plain": [
       "        sm  d1  d2       pd1       pd2    p\n",
       "(1, 1)   2   1   1  0.111111  0.166667  NaN\n",
       "(1, 2)   3   1   2  0.111111  0.166667  NaN\n",
       "(1, 3)   4   1   3  0.111111  0.166667  NaN\n",
       "(1, 4)   5   1   4  0.111111  0.166667  NaN\n",
       "(1, 5)   6   1   5  0.111111  0.166667  NaN\n",
       "(1, 6)   7   1   6  0.111111  0.166667  NaN\n",
       "(2, 1)   3   2   1  0.111111  0.166667  NaN\n",
       "(2, 2)   4   2   2  0.111111  0.166667  NaN\n",
       "(2, 3)   5   2   3  0.111111  0.166667  NaN\n",
       "(2, 4)   6   2   4  0.111111  0.166667  NaN\n",
       "(2, 5)   7   2   5  0.111111  0.166667  NaN\n",
       "(2, 6)   8   2   6  0.111111  0.166667  NaN\n",
       "(3, 1)   4   3   1  0.111111  0.166667  NaN\n",
       "(3, 2)   5   3   2  0.111111  0.166667  NaN\n",
       "(3, 3)   6   3   3  0.111111  0.166667  NaN\n",
       "(3, 4)   7   3   4  0.111111  0.166667  NaN\n",
       "(3, 5)   8   3   5  0.111111  0.166667  NaN\n",
       "(3, 6)   9   3   6  0.111111  0.166667  NaN\n",
       "(4, 1)   5   4   1  0.222222  0.166667  NaN\n",
       "(4, 2)   6   4   2  0.222222  0.166667  NaN"
      ]
     },
     "execution_count": 33,
     "metadata": {},
     "output_type": "execute_result"
    }
   ],
   "source": [
    "d.loc[d.d1 <= 3, 'pd1'] = 1/9.\n",
    "d.loc[d.d1 > 3, 'pd1'] = 2/9.\n",
    "d.pd2 = 1 / 6\n",
    "d.head(20)"
   ]
  },
  {
   "cell_type": "code",
   "execution_count": 34,
   "metadata": {
    "collapsed": false
   },
   "outputs": [
    {
     "data": {
      "text/html": [
       "<div>\n",
       "<table border=\"1\" class=\"dataframe\">\n",
       "  <thead>\n",
       "    <tr style=\"text-align: right;\">\n",
       "      <th></th>\n",
       "      <th>sm</th>\n",
       "      <th>d1</th>\n",
       "      <th>d2</th>\n",
       "      <th>pd1</th>\n",
       "      <th>pd2</th>\n",
       "      <th>p</th>\n",
       "    </tr>\n",
       "  </thead>\n",
       "  <tbody>\n",
       "    <tr>\n",
       "      <th>(1, 1)</th>\n",
       "      <td>2</td>\n",
       "      <td>1</td>\n",
       "      <td>1</td>\n",
       "      <td>0.111111</td>\n",
       "      <td>0.166667</td>\n",
       "      <td>0.0185185</td>\n",
       "    </tr>\n",
       "    <tr>\n",
       "      <th>(1, 2)</th>\n",
       "      <td>3</td>\n",
       "      <td>1</td>\n",
       "      <td>2</td>\n",
       "      <td>0.111111</td>\n",
       "      <td>0.166667</td>\n",
       "      <td>0.0185185</td>\n",
       "    </tr>\n",
       "    <tr>\n",
       "      <th>(1, 3)</th>\n",
       "      <td>4</td>\n",
       "      <td>1</td>\n",
       "      <td>3</td>\n",
       "      <td>0.111111</td>\n",
       "      <td>0.166667</td>\n",
       "      <td>0.0185185</td>\n",
       "    </tr>\n",
       "    <tr>\n",
       "      <th>(1, 4)</th>\n",
       "      <td>5</td>\n",
       "      <td>1</td>\n",
       "      <td>4</td>\n",
       "      <td>0.111111</td>\n",
       "      <td>0.166667</td>\n",
       "      <td>0.0185185</td>\n",
       "    </tr>\n",
       "    <tr>\n",
       "      <th>(1, 5)</th>\n",
       "      <td>6</td>\n",
       "      <td>1</td>\n",
       "      <td>5</td>\n",
       "      <td>0.111111</td>\n",
       "      <td>0.166667</td>\n",
       "      <td>0.0185185</td>\n",
       "    </tr>\n",
       "  </tbody>\n",
       "</table>\n",
       "</div>"
      ],
      "text/plain": [
       "        sm  d1  d2       pd1       pd2          p\n",
       "(1, 1)   2   1   1  0.111111  0.166667  0.0185185\n",
       "(1, 2)   3   1   2  0.111111  0.166667  0.0185185\n",
       "(1, 3)   4   1   3  0.111111  0.166667  0.0185185\n",
       "(1, 4)   5   1   4  0.111111  0.166667  0.0185185\n",
       "(1, 5)   6   1   5  0.111111  0.166667  0.0185185"
      ]
     },
     "execution_count": 34,
     "metadata": {},
     "output_type": "execute_result"
    }
   ],
   "source": [
    "d.p = d.pd1 * d.pd2\n",
    "d.head(5)"
   ]
  },
  {
   "cell_type": "code",
   "execution_count": 35,
   "metadata": {
    "collapsed": false
   },
   "outputs": [
    {
     "data": {
      "text/plain": [
       "sm\n",
       "2     0.018519\n",
       "3     0.037037\n",
       "4     0.055556\n",
       "5     0.092593\n",
       "6     0.129630\n",
       "7     0.166667\n",
       "8     0.148148\n",
       "9     0.129630\n",
       "10    0.111111\n",
       "11    0.074074\n",
       "12    0.037037\n",
       "Name: p, dtype: float64"
      ]
     },
     "execution_count": 35,
     "metadata": {},
     "output_type": "execute_result"
    }
   ],
   "source": [
    "d.groupby('sm')['p'].sum()"
   ]
  },
  {
   "cell_type": "markdown",
   "metadata": {},
   "source": [
    "# Independence"
   ]
  },
  {
   "cell_type": "code",
   "execution_count": 36,
   "metadata": {
    "collapsed": false
   },
   "outputs": [
    {
     "data": {
      "text/plain": [
       "0.13100000000000001"
      ]
     },
     "execution_count": 36,
     "metadata": {},
     "output_type": "execute_result"
    }
   ],
   "source": [
    "import numpy as np\n",
    "x, y = np.random.rand(2, 1000)\n",
    "a, b, c = x, (y-x), 1-y\n",
    "s = (a+b+c) / 2\n",
    "np.mean((s>a) & (s>b) & (s>c) & (y>x))"
   ]
  },
  {
   "cell_type": "code",
   "execution_count": 40,
   "metadata": {
    "collapsed": false
   },
   "outputs": [
    {
     "name": "stdout",
     "output_type": "stream",
     "text": [
      "y + 1/2\n",
      "x + 1/2\n",
      "(3*y + 2)/(6*y + 3)\n",
      "-log(3)/144 + 1/12\n"
     ]
    }
   ],
   "source": [
    "from sympy.abc import x,y\n",
    "from sympy import integrate, simplify\n",
    "\n",
    "fxy = x + y\n",
    "fy = integrate(fxy, (x, 0, 1))\n",
    "fx = integrate(fxy, (y, 0, 1))\n",
    "print(fy)\n",
    "print(fx)\n",
    "EXY = ( 3*y+2 ) / ( 6*y+3 )\n",
    "\n",
    "print(EXY)\n",
    "LHS=integrate((x - EXY)**2*fxy, (x, 0, 1), (y, 0, 1))\n",
    "print(LHS)"
   ]
  },
  {
   "cell_type": "code",
   "execution_count": 43,
   "metadata": {
    "collapsed": false
   },
   "outputs": [
    {
     "name": "stdout",
     "output_type": "stream",
     "text": [
      "-log(3)/144 + 1/12\n"
     ]
    }
   ],
   "source": [
    "RHS=integrate((x)**2*fx, (x, 0, 1)) - integrate((EXY)**2*fy, (y, 0, 1))\n",
    "print(RHS)"
   ]
  },
  {
   "cell_type": "markdown",
   "metadata": {},
   "source": [
    "# Conditional Expection and Mean Square Error"
   ]
  },
  {
   "cell_type": "code",
   "execution_count": 49,
   "metadata": {
    "collapsed": false
   },
   "outputs": [
    {
     "name": "stdout",
     "output_type": "stream",
     "text": [
      "D1\n",
      "D2\n",
      "D1 + D2\n",
      "329*a**2/6 - 329*a/6 + 91/6\n",
      "1/2\n"
     ]
    }
   ],
   "source": [
    "import sympy as S\n",
    "from sympy.stats import density, E, Die\n",
    "x = Die('D1', 6)\n",
    "print(x)\n",
    "y = Die('D2', 6)\n",
    "print(y)\n",
    "a = S.symbols('a')\n",
    "z = x + y\n",
    "print(z)\n",
    "J = E((x - a*(x+y)) ** 2)\n",
    "print(S.simplify(J))\n",
    "sol, = S.solve(S.diff(J, a), a)\n",
    "print(sol)"
   ]
  },
  {
   "cell_type": "code",
   "execution_count": 50,
   "metadata": {
    "collapsed": false
   },
   "outputs": [
    {
     "name": "stdout",
     "output_type": "stream",
     "text": [
      "MSE=9.71 using 6 vs MSE=3.01 using 7 / 2\n"
     ]
    }
   ],
   "source": [
    "import numpy as np\n",
    "from sympy import stats\n",
    "sample_z7 = lambda: stats.sample(x, S.Eq(z, 7))\n",
    "mn = np.mean([(6 - sample_z7()) ** 2 for i in range(100)])\n",
    "mn0 = np.mean([(7/2. - sample_z7()) ** 2 for i in range(100)])\n",
    "print(\"MSE=%3.2f using 6 vs MSE=%3.2f using 7 / 2\" %(mn, mn0))"
   ]
  },
  {
   "cell_type": "code",
   "execution_count": 51,
   "metadata": {
    "collapsed": false
   },
   "outputs": [
    {
     "data": {
      "text/plain": [
       "5.00000000000000"
      ]
     },
     "execution_count": 51,
     "metadata": {},
     "output_type": "execute_result"
    }
   ],
   "source": [
    "x = stats.FiniteRV('D3', {1:1/15., 2:1/15.,\n",
    "                          3:1/15., 4:1/15.,\n",
    "                          5:1/15., 6:2/3.})\n",
    "E(x, S.Eq(z, 7))"
   ]
  },
  {
   "cell_type": "code",
   "execution_count": 54,
   "metadata": {
    "collapsed": false
   },
   "outputs": [
    {
     "name": "stdout",
     "output_type": "stream",
     "text": [
      "MSE=3.30 using 6 vs MSE=2.09 using 7 / 2\n"
     ]
    }
   ],
   "source": [
    "sample_z7 = lambda: stats.sample(x, S.Eq(z,7))\n",
    "mn = np.mean([(6 - sample_z7()) ** 2 for i in range(100)])\n",
    "mn0 = np.mean([(5 - sample_z7()) ** 2 for i in range(100)])\n",
    "print(\"MSE=%3.2f using 6 vs MSE=%3.2f using 7 / 2\" %(mn, mn0))"
   ]
  },
  {
   "cell_type": "code",
   "execution_count": 60,
   "metadata": {
    "collapsed": false
   },
   "outputs": [
    {
     "name": "stdout",
     "output_type": "stream",
     "text": [
      "160/3\n",
      "52.8426395939\n"
     ]
    }
   ],
   "source": [
    "import sympy as S\n",
    "X10, X20, X50 = S.symbols(\"X10, X20, X50\", real=True)\n",
    "xi = 10*X10 + 20*X20 + 50*X50\n",
    "eta = X10*X20*(1- X50) + X10*(1 - X20)*X50 + (1 - X10)*X20*X50 \n",
    "num = S.summation(xi*eta, (X10, 0, 1), (X20, 0, 1), (X50, 0, 1))\n",
    "den = S.summation(eta*eta, (X10, 0, 1), (X20, 0, 1), (X50, 0, 1))\n",
    "alpha=num/den\n",
    "print(alpha)\n",
    "import pandas as pd\n",
    "d = pd.DataFrame(columns=[\"X10\", \"X20\", \"X50\"])\n",
    "d.X10 = np.random.randint(0, 2 , 1000)\n",
    "d.X20 = np.random.randint(0, 2 , 1000)\n",
    "d.X50 = np.random.randint(0, 2 , 1000)\n",
    "grp = d.groupby(d.eval(\"X10+X20+X50\"))\n",
    "#print(grp.get_group(2))\n",
    "print(grp.get_group(2).eval(\"10*X10+20*X20+50*X50\").mean())"
   ]
  },
  {
   "cell_type": "code",
   "execution_count": 64,
   "metadata": {
    "collapsed": false
   },
   "outputs": [
    {
     "name": "stdout",
     "output_type": "stream",
     "text": [
      "52.8912466844\n"
     ]
    }
   ],
   "source": [
    "from numpy import array\n",
    "x = np.random.randint(0,2, (3, 1000))\n",
    "print(np.dot(x[:, x.sum(axis=0)==2].T, array([10, 20, 50])).mean())"
   ]
  },
  {
   "cell_type": "code",
   "execution_count": 74,
   "metadata": {
    "collapsed": false
   },
   "outputs": [
    {
     "name": "stdout",
     "output_type": "stream",
     "text": [
      "{b: 25, a: 1}\n",
      "30*X10*X20 + 10*X10*(-X20 + 1) + 20*X20*(-X10 + 1)\n",
      "-100*X10**2*a + 100*X10**2 - 400*X10*X20*a + 400*X10*X20 + 500*X10*X50 - 10*X10*b - 400*X20**2*a + 400*X20**2 + 1000*X20*X50 - 20*X20*b\n"
     ]
    }
   ],
   "source": [
    "from sympy.abc import a, b\n",
    "h = a*eta + b\n",
    "eta = X10*X20*30 + X10*(1-X20)*10 + (1-X10)*X20*20\n",
    "MSE=S.summation((xi-h)**2*S.Rational(1, 8), (X10, 0, 1),\n",
    "               (X20, 0, 1),\n",
    "               (X50, 0, 1))\n",
    "sol=S.solve([S.diff(MSE, a), S.diff(MSE, b)], (a,b))\n",
    "print(sol)\n",
    "print(eta)\n",
    "expr = expr=S.expand((xi - h )*eta)\n",
    "print(expr)"
   ]
  },
  {
   "cell_type": "code",
   "execution_count": 75,
   "metadata": {
    "collapsed": false
   },
   "outputs": [
    {
     "data": {
      "text/plain": [
       "-350.0*a - 15.0*b + 725.0"
      ]
     },
     "execution_count": 75,
     "metadata": {},
     "output_type": "execute_result"
    }
   ],
   "source": [
    "expr.xreplace({X10**2:0.5, X20**2:0.5, X10:0.5, X20:0.5, X50:0.5})"
   ]
  },
  {
   "cell_type": "code",
   "execution_count": 76,
   "metadata": {
    "collapsed": false,
    "scrolled": true
   },
   "outputs": [
    {
     "name": "stdout",
     "output_type": "stream",
     "text": [
      "-15.0*a - b + 40.0\n"
     ]
    }
   ],
   "source": [
    "print(S.expand((xi - h)*1).xreplace({X10**2:0.5,\n",
    "                                     X20**2:0.5,\n",
    "                                     X10:0.5,\n",
    "                                     X20:0.5,\n",
    "                                     X50:0.5,}))"
   ]
  },
  {
   "cell_type": "code",
   "execution_count": 77,
   "metadata": {
    "collapsed": false
   },
   "outputs": [
    {
     "name": "stdout",
     "output_type": "stream",
     "text": [
      "{b: 25.0000000000000, a: 1.00000000000000}\n"
     ]
    }
   ],
   "source": [
    "print(S.solve([-350.0*a - 15.0*b + 725.0, -15.0*a - b + 40.0]))"
   ]
  },
  {
   "cell_type": "code",
   "execution_count": 80,
   "metadata": {
    "collapsed": true
   },
   "outputs": [],
   "source": [
    "d[\"sm\"] = d.eval(\"X10*10+X20*20\")"
   ]
  },
  {
   "cell_type": "code",
   "execution_count": 81,
   "metadata": {
    "collapsed": false
   },
   "outputs": [
    {
     "name": "stdout",
     "output_type": "stream",
     "text": [
      "    X10  X20       X50\n",
      "sm                    \n",
      "0   0.0  0.0  0.553785\n",
      "10  1.0  0.0  0.484375\n",
      "20  0.0  1.0  0.530120\n",
      "30  1.0  1.0  0.434426\n"
     ]
    }
   ],
   "source": [
    "print(d.groupby(\"sm\").mean())"
   ]
  },
  {
   "cell_type": "code",
   "execution_count": 82,
   "metadata": {
    "collapsed": false
   },
   "outputs": [
    {
     "name": "stdout",
     "output_type": "stream",
     "text": [
      "sm\n",
      "0     27.689243\n",
      "10    34.218750\n",
      "20    46.506024\n",
      "30    51.721311\n",
      "dtype: float64\n"
     ]
    }
   ],
   "source": [
    "print(d.groupby(\"sm\").mean().eval(\"10*X10+20*X20+50*X50\"))"
   ]
  },
  {
   "cell_type": "code",
   "execution_count": 93,
   "metadata": {
    "collapsed": false
   },
   "outputs": [
    {
     "name": "stdout",
     "output_type": "stream",
     "text": [
      "{b: -20/9, c: 8/9, a: 38/27}\n",
      "Piecewise((2/27, And(x < 1/3, x > 0)), (14/27, And(x < 2/3, x > 1/3)), (38/27, And(x < 1, x > 2/3)))\n",
      "{b: 11.8518518518519, c: -0.938271604938272, a: -6.14814814814815}\n"
     ]
    }
   ],
   "source": [
    "x,c,b,a = S.symbols(\"x,c,b,a\")\n",
    "xi = 2*x**2\n",
    "\n",
    "eta = S.Piecewise((1, S.And(S.Gt(x, 0),\n",
    "                             S.Lt(x, S.Rational(1, 3)))),\n",
    "                  (2, S.And(S.Gt(x, S.Rational(1, 3)),\n",
    "                             S.Lt(x, S.Rational(2, 3)))),\n",
    "                  (0, S.And(S.Gt(x, S.Rational(2, 3)),\n",
    "                             S.Lt(x, 1))))\n",
    "h = a + b*eta + c * eta**2\n",
    "J=S.integrate((xi-h)**2, (x, 0, 1))\n",
    "sol=S.solve([S.diff(J, a), S.diff(J, b), S.diff(J, c),], (a, b, c))\n",
    "print(sol)\n",
    "print(S.piecewise_fold(h.subs(sol)))\n",
    "h = c + b*eta + a * eta**2\n",
    "S.integrate((xi - h)*1, (x, 0, 1))\n",
    "S.integrate((xi - h)*eta**2, (x, 0, 1))\n",
    "eps=[ -5 * a/3 - b- c + 2/3,\n",
    "    -3*a - 5*b/3 -c + 10/27,\n",
    "    -17*a/3 - 3*b + 58/81]\n",
    "sol=S.solve(eps)\n",
    "print(sol)"
   ]
  },
  {
   "cell_type": "code",
   "execution_count": 94,
   "metadata": {
    "collapsed": false
   },
   "outputs": [
    {
     "name": "stdout",
     "output_type": "stream",
     "text": [
      "Piecewise((4.76543209876543, And(x < 1/3, x > 0)), (-1.82716049382716, And(x < 2/3, x > 1/3)), (-0.938271604938272, And(x < 1, x > 2/3)))\n"
     ]
    }
   ],
   "source": [
    "print(S.piecewise_fold(h.subs(sol)))"
   ]
  },
  {
   "cell_type": "code",
   "execution_count": 96,
   "metadata": {
    "collapsed": false
   },
   "outputs": [
    {
     "data": {
      "text/plain": [
       "x\n",
       "(0, 0.333]        0.070806\n",
       "(0.333, 0.667]    0.511241\n",
       "(0.667, 1]        1.406698\n",
       "Name: xi, dtype: float64"
      ]
     },
     "execution_count": 96,
     "metadata": {},
     "output_type": "execute_result"
    }
   ],
   "source": [
    "d = pd.DataFrame(columns=[\"x\", \"eta\", \"xi\"])\n",
    "d.x = np.random.rand(1000)\n",
    "d.xi = 2*d.x**2\n",
    "pd.cut(d.x, [0, 1/3, 2/3, 1]).head()\n",
    "d.groupby(pd.cut(d.x, [0, 1/3, 2/3, 1])).mean()[\"xi\"]"
   ]
  },
  {
   "cell_type": "code",
   "execution_count": 98,
   "metadata": {
    "collapsed": false
   },
   "outputs": [
    {
     "name": "stdout",
     "output_type": "stream",
     "text": [
      "2/27\n",
      "14/27\n",
      "38/27\n"
     ]
    }
   ],
   "source": [
    "from sympy.stats import E, Uniform\n",
    "x = Uniform(\"x\", 0, 1)\n",
    "print(E(2*x**2, S.And(x < S.Rational(1, 3), x > 0)))\n",
    "print(E(2*x**2, S.And(x < S.Rational(2, 3), x > S.Rational(1,3))))\n",
    "print(E(2*x**2, S.And(x < 1, x > S.Rational(2,3))))"
   ]
  },
  {
   "cell_type": "code",
   "execution_count": 14,
   "metadata": {
    "collapsed": false
   },
   "outputs": [
    {
     "name": "stdout",
     "output_type": "stream",
     "text": [
      "         xi       eta         x         h        h1        h2\n",
      "0  0.385684  0.878276  0.439138  0.385684  0.385684  0.000000\n",
      "1  1.244334  0.422448  0.788776  1.100911  0.000000  1.100911\n",
      "2  1.739357  0.134869  0.932565  0.653059  0.000000  0.653059\n",
      "3  1.831709  0.085994  0.957003  0.593389  0.000000  0.593389\n",
      "4  0.399496  0.893864  0.446932  0.399496  0.399496  0.000000\n"
     ]
    }
   ],
   "source": [
    "from pandas import DataFrame\n",
    "import numpy as np\n",
    "d = DataFrame(columns=[\"xi\", \"eta\", \"x\", \"h\", \"h1\", \"h2\"])\n",
    "d.x = np.random.rand(100)\n",
    "d.xi = d.eval(\"2*x**2\")\n",
    "d.eta = 1 - abs(2*d.x - 1)\n",
    "d.h1 = d[(d.x < 0.5)].eval(\"eta**2/2\")\n",
    "#d.h2 = d[(d.x >= 0.5)].eval(\"(2-eta)**2/2\")\n",
    "d.h2 = d[(d.x > 0.5)].eval(\"1/2 + eta + eta**2\")\n",
    "d.fillna(0, inplace=True)\n",
    "d.h = d.h1+d.h2\n",
    "print(d.head())"
   ]
  },
  {
   "cell_type": "code",
   "execution_count": 3,
   "metadata": {
    "collapsed": false
   },
   "outputs": [
    {
     "name": "stderr",
     "output_type": "stream",
     "text": [
      "/usr/local/lib/python3.4/dist-packages/matplotlib/font_manager.py:273: UserWarning: Matplotlib is building the font cache using fc-list. This may take a moment.\n",
      "  warnings.warn('Matplotlib is building the font cache using fc-list. This may take a moment.')\n",
      "/usr/local/lib/python3.4/dist-packages/matplotlib/font_manager.py:273: UserWarning: Matplotlib is building the font cache using fc-list. This may take a moment.\n",
      "  warnings.warn('Matplotlib is building the font cache using fc-list. This may take a moment.')\n"
     ]
    },
    {
     "ename": "NameError",
     "evalue": "name 'd' is not defined",
     "traceback": [
      "\u001b[1;31m---------------------------------------------------------------------------\u001b[0m",
      "\u001b[1;31mNameError\u001b[0m                                 Traceback (most recent call last)",
      "\u001b[1;32m<ipython-input-3-3f6af058ea4d>\u001b[0m in \u001b[0;36m<module>\u001b[1;34m()\u001b[0m\n\u001b[0;32m      5\u001b[0m \u001b[0mget_ipython\u001b[0m\u001b[1;33m(\u001b[0m\u001b[1;33m)\u001b[0m\u001b[1;33m.\u001b[0m\u001b[0mmagic\u001b[0m\u001b[1;33m(\u001b[0m\u001b[1;34m'matplotlib inline'\u001b[0m\u001b[1;33m)\u001b[0m\u001b[1;33m\u001b[0m\u001b[0m\n\u001b[0;32m      6\u001b[0m \u001b[0mfig\u001b[0m\u001b[1;33m,\u001b[0m \u001b[0max\u001b[0m \u001b[1;33m=\u001b[0m \u001b[0msubplots\u001b[0m\u001b[1;33m(\u001b[0m\u001b[1;33m)\u001b[0m\u001b[1;33m\u001b[0m\u001b[0m\n\u001b[1;32m----> 7\u001b[1;33m \u001b[0max\u001b[0m\u001b[1;33m.\u001b[0m\u001b[0mplot\u001b[0m\u001b[1;33m(\u001b[0m\u001b[0md\u001b[0m\u001b[1;33m.\u001b[0m\u001b[0mxi\u001b[0m\u001b[1;33m,\u001b[0m \u001b[0md\u001b[0m\u001b[1;33m.\u001b[0m\u001b[0meta\u001b[0m\u001b[1;33m,\u001b[0m \u001b[1;34m\".\"\u001b[0m\u001b[1;33m,\u001b[0m \u001b[0malpha\u001b[0m\u001b[1;33m=\u001b[0m\u001b[1;36m.3\u001b[0m\u001b[1;33m,\u001b[0m \u001b[0mlabel\u001b[0m\u001b[1;33m=\u001b[0m\u001b[1;34m\"$\\eta$\"\u001b[0m\u001b[1;33m)\u001b[0m\u001b[1;33m\u001b[0m\u001b[0m\n\u001b[0m\u001b[0;32m      8\u001b[0m \u001b[0max\u001b[0m\u001b[1;33m.\u001b[0m\u001b[0mplot\u001b[0m\u001b[1;33m(\u001b[0m\u001b[0md\u001b[0m\u001b[1;33m.\u001b[0m\u001b[0mxi\u001b[0m\u001b[1;33m,\u001b[0m \u001b[0md\u001b[0m\u001b[1;33m.\u001b[0m\u001b[0mh\u001b[0m\u001b[1;33m,\u001b[0m \u001b[1;34m\".\"\u001b[0m\u001b[1;33m,\u001b[0m \u001b[0mlabel\u001b[0m\u001b[1;33m=\u001b[0m\u001b[1;34m\"$h(\\eta)$\"\u001b[0m\u001b[1;33m)\u001b[0m\u001b[1;33m\u001b[0m\u001b[0m\n\u001b[0;32m      9\u001b[0m \u001b[0max\u001b[0m\u001b[1;33m.\u001b[0m\u001b[0mlegend\u001b[0m\u001b[1;33m(\u001b[0m\u001b[0mloc\u001b[0m\u001b[1;33m=\u001b[0m\u001b[1;36m0\u001b[0m\u001b[1;33m,\u001b[0m \u001b[0mfontsize\u001b[0m\u001b[1;33m=\u001b[0m\u001b[1;36m18\u001b[0m\u001b[1;33m)\u001b[0m\u001b[1;33m\u001b[0m\u001b[0m\n",
      "\u001b[1;31mNameError\u001b[0m: name 'd' is not defined"
     ],
     "output_type": "error"
    },
    {
     "data": {
      "image/png": "[encoded data removed]",
      "text/plain": [
       "<matplotlib.figure.Figure at 0x7feb06a45438>"
      ]
     },
     "metadata": {},
     "output_type": "display_data"
    }
   ],
   "source": [
    "import matplotlib\n",
    "matplotlib.use('Agg')\n",
    "from matplotlib.pyplot import subplots\n",
    "import matplotlib.pyplot as plt\n",
    "%matplotlib inline\n",
    "fig, ax = subplots()\n",
    "ax.plot(d.xi, d.eta, \".\", alpha=.3, label=\"$\\eta$\")\n",
    "ax.plot(d.xi, d.h, \".\", label=\"$h(\\eta)$\")\n",
    "ax.legend(loc=0, fontsize=18)\n",
    "ax.set_xlabel(\"$2 x^2$\", fontsize=18)\n",
    "ax.set_ylabel(\"$h(\\eta)$\", fontsize=18)"
   ]
  },
  {
   "cell_type": "markdown",
   "metadata": {
    "collapsed": false
   },
   "source": [
    "# Information Entropy"
   ]
  },
  {
   "cell_type": "code",
   "execution_count": 4,
   "metadata": {
    "collapsed": false
   },
   "outputs": [
    {
     "name": "stdout",
     "output_type": "stream",
     "text": [
      "10*p\n",
      "10*p\n",
      "10*p\n",
      "10*p*(9*p + 1)\n"
     ]
    }
   ],
   "source": [
    "import sympy as S\n",
    "from sympy import stats\n",
    "p, t = S.symbols(\"p, t\", positive=True)\n",
    "x = stats.Binomial(\"x\", 10, p)\n",
    "mgf = stats.E(S.exp(t*x))\n",
    "\n",
    "print(S.simplify(stats.E(x)))\n",
    "print(S.simplify(S.diff(mgf, t).subs(t, 0)))\n",
    "\n",
    "print(S.simplify(stats.moment(x, 1)))\n",
    "print(S.simplify(stats.moment(x, 2)))"
   ]
  },
  {
   "cell_type": "code",
   "execution_count": 5,
   "metadata": {
    "collapsed": false
   },
   "outputs": [
    {
     "data": {
      "text/plain": [
       "t**2*(sigma0**2/2 + sigma1**2/2) + t*(mu0 + mu1)"
      ]
     },
     "execution_count": 5,
     "metadata": {},
     "output_type": "execute_result"
    }
   ],
   "source": [
    "import sympy as S\n",
    "from sympy import stats\n",
    "S.var('x:2', real=True)\n",
    "S.var('mu:2', real=True)\n",
    "S.var('sigma:2', positive=True)\n",
    "S.var('t', positive=True)\n",
    "x0 = stats.Normal(x0, mu0, sigma0)\n",
    "x1 = stats.Normal(x1, mu1, sigma1)\n",
    "mgf0 = S.simplify(stats.E(S.exp(t * x0)))\n",
    "mgf1 = S.simplify(stats.E(S.exp(t * x1)))\n",
    "mgfY = S.simplify(mgf0 * mgf1)\n",
    "S.collect(S.expand(S.log(mgfY)), t)"
   ]
  },
  {
   "cell_type": "markdown",
   "metadata": {},
   "source": [
    "# モンテカルロサンプリング"
   ]
  },
  {
   "cell_type": "code",
   "execution_count": 6,
   "metadata": {
    "collapsed": false
   },
   "outputs": [
    {
     "data": {
      "text/html": [
       "<div>\n",
       "<table border=\"1\" class=\"dataframe\">\n",
       "  <thead>\n",
       "    <tr style=\"text-align: right;\">\n",
       "      <th></th>\n",
       "      <th>u</th>\n",
       "      <th>v</th>\n",
       "    </tr>\n",
       "  </thead>\n",
       "  <tbody>\n",
       "    <tr>\n",
       "      <th>0</th>\n",
       "      <td>0.301786</td>\n",
       "      <td>2</td>\n",
       "    </tr>\n",
       "    <tr>\n",
       "      <th>1</th>\n",
       "      <td>0.920340</td>\n",
       "      <td>6</td>\n",
       "    </tr>\n",
       "    <tr>\n",
       "      <th>2</th>\n",
       "      <td>0.605409</td>\n",
       "      <td>4</td>\n",
       "    </tr>\n",
       "    <tr>\n",
       "      <th>3</th>\n",
       "      <td>0.112120</td>\n",
       "      <td>1</td>\n",
       "    </tr>\n",
       "    <tr>\n",
       "      <th>4</th>\n",
       "      <td>0.619712</td>\n",
       "      <td>4</td>\n",
       "    </tr>\n",
       "  </tbody>\n",
       "</table>\n",
       "</div>"
      ],
      "text/plain": [
       "          u  v\n",
       "0  0.301786  2\n",
       "1  0.920340  6\n",
       "2  0.605409  4\n",
       "3  0.112120  1\n",
       "4  0.619712  4"
      ]
     },
     "execution_count": 6,
     "metadata": {},
     "output_type": "execute_result"
    }
   ],
   "source": [
    "import pandas as pd\n",
    "import numpy as np\n",
    "from pandas import DataFrame\n",
    "u = np.random.rand(100)\n",
    "df = DataFrame(data=u, columns=[\"u\"])\n",
    "labels = [1, 2, 3, 4, 5, 6]\n",
    "df[\"v\"] = pd.cut(df.u, np.linspace(0, 1, 7), \n",
    "                 include_lowest=True, labels=labels)\n",
    "df.head()"
   ]
  },
  {
   "cell_type": "code",
   "execution_count": 7,
   "metadata": {
    "collapsed": false
   },
   "outputs": [
    {
     "data": {
      "text/html": [
       "<div>\n",
       "<table border=\"1\" class=\"dataframe\">\n",
       "  <thead>\n",
       "    <tr style=\"text-align: right;\">\n",
       "      <th></th>\n",
       "      <th>u</th>\n",
       "    </tr>\n",
       "    <tr>\n",
       "      <th>v</th>\n",
       "      <th></th>\n",
       "    </tr>\n",
       "  </thead>\n",
       "  <tbody>\n",
       "    <tr>\n",
       "      <th>1</th>\n",
       "      <td>21</td>\n",
       "    </tr>\n",
       "    <tr>\n",
       "      <th>2</th>\n",
       "      <td>10</td>\n",
       "    </tr>\n",
       "    <tr>\n",
       "      <th>3</th>\n",
       "      <td>15</td>\n",
       "    </tr>\n",
       "    <tr>\n",
       "      <th>4</th>\n",
       "      <td>16</td>\n",
       "    </tr>\n",
       "    <tr>\n",
       "      <th>5</th>\n",
       "      <td>21</td>\n",
       "    </tr>\n",
       "    <tr>\n",
       "      <th>6</th>\n",
       "      <td>17</td>\n",
       "    </tr>\n",
       "  </tbody>\n",
       "</table>\n",
       "</div>"
      ],
      "text/plain": [
       "    u\n",
       "v    \n",
       "1  21\n",
       "2  10\n",
       "3  15\n",
       "4  16\n",
       "5  21\n",
       "6  17"
      ]
     },
     "execution_count": 7,
     "metadata": {},
     "output_type": "execute_result"
    }
   ],
   "source": [
    "df.groupby(\"v\").count()"
   ]
  },
  {
   "cell_type": "code",
   "execution_count": 8,
   "metadata": {
    "collapsed": false
   },
   "outputs": [
    {
     "data": {
      "text/html": [
       "<div>\n",
       "<table border=\"1\" class=\"dataframe\">\n",
       "  <thead>\n",
       "    <tr style=\"text-align: right;\">\n",
       "      <th></th>\n",
       "      <th>u</th>\n",
       "    </tr>\n",
       "    <tr>\n",
       "      <th>v</th>\n",
       "      <th></th>\n",
       "    </tr>\n",
       "  </thead>\n",
       "  <tbody>\n",
       "    <tr>\n",
       "      <th>1</th>\n",
       "      <td>0.11</td>\n",
       "    </tr>\n",
       "    <tr>\n",
       "      <th>2</th>\n",
       "      <td>0.10</td>\n",
       "    </tr>\n",
       "    <tr>\n",
       "      <th>3</th>\n",
       "      <td>0.04</td>\n",
       "    </tr>\n",
       "    <tr>\n",
       "      <th>4</th>\n",
       "      <td>0.21</td>\n",
       "    </tr>\n",
       "    <tr>\n",
       "      <th>5</th>\n",
       "      <td>0.26</td>\n",
       "    </tr>\n",
       "    <tr>\n",
       "      <th>6</th>\n",
       "      <td>0.28</td>\n",
       "    </tr>\n",
       "  </tbody>\n",
       "</table>\n",
       "</div>"
      ],
      "text/plain": [
       "      u\n",
       "v      \n",
       "1  0.11\n",
       "2  0.10\n",
       "3  0.04\n",
       "4  0.21\n",
       "5  0.26\n",
       "6  0.28"
      ]
     },
     "execution_count": 8,
     "metadata": {},
     "output_type": "execute_result"
    }
   ],
   "source": [
    "df[\"v\"] = pd.cut(df.u, [0, 1/12, 2/12, 3/12, 2/4, 3/4, 1], \n",
    "                 include_lowest=True, labels=labels)\n",
    "df.groupby(\"v\").count() / df.shape[0]"
   ]
  },
  {
   "cell_type": "code",
   "execution_count": 17,
   "metadata": {
    "collapsed": false
   },
   "outputs": [
    {
     "data": {
      "text/plain": [
       "((array([ 1.00069315,  1.0016833 ,  1.00268512,  1.00368795,  1.00469178,\n",
       "          1.00569662,  1.00670247,  1.00770934,  1.00871722,  1.00972611,\n",
       "          1.01073603,  1.01174696,  1.01275892,  1.01377191,  1.01478592,\n",
       "          1.01580096,  1.01681703,  1.01783414,  1.01885228,  1.01987145,\n",
       "          1.02089167,  1.02191293,  1.02293524,  1.02395859,  1.02498299,\n",
       "          1.02600844,  1.02703494,  1.02806249,  1.02909111,  1.03012078,\n",
       "          1.03115151,  1.03218331,  1.03321617,  1.03425011,  1.03528511,\n",
       "          1.03632118,  1.03735833,  1.03839655,  1.03943586,  1.04047624,\n",
       "          1.04151771,  1.04256027,  1.04360391,  1.04464864,  1.04569447,\n",
       "          1.04674139,  1.04778941,  1.04883852,  1.04988874,  1.05094006,\n",
       "          1.05199249,  1.05304603,  1.05410068,  1.05515644,  1.05621332,\n",
       "          1.05727132,  1.05833044,  1.05939068,  1.06045204,  1.06151454,\n",
       "          1.06257816,  1.06364292,  1.06470881,  1.06577583,  1.066844  ,\n",
       "          1.06791331,  1.06898377,  1.07005537,  1.07112812,  1.07220202,\n",
       "          1.07327708,  1.0743533 ,  1.07543067,  1.07650921,  1.07758891,\n",
       "          1.07866978,  1.07975181,  1.08083502,  1.08191941,  1.08300497,\n",
       "          1.08409171,  1.08517963,  1.08626874,  1.08735904,  1.08845052,\n",
       "          1.0895432 ,  1.09063708,  1.09173215,  1.09282842,  1.09392589,\n",
       "          1.09502457,  1.09612446,  1.09722556,  1.09832788,  1.09943141,\n",
       "          1.10053616,  1.10164213,  1.10274933,  1.10385775,  1.1049674 ,\n",
       "          1.10607829,  1.10719041,  1.10830377,  1.10941837,  1.11053421,\n",
       "          1.11165131,  1.11276965,  1.11388924,  1.11501008,  1.11613219,\n",
       "          1.11725555,  1.11838018,  1.11950608,  1.12063324,  1.12176168,\n",
       "          1.12289139,  1.12402238,  1.12515465,  1.1262882 ,  1.12742304,\n",
       "          1.12855917,  1.12969659,  1.1308353 ,  1.13197532,  1.13311663,\n",
       "          1.13425925,  1.13540318,  1.13654841,  1.13769496,  1.13884283,\n",
       "          1.13999201,  1.14114252,  1.14229435,  1.14344751,  1.144602  ,\n",
       "          1.14575782,  1.14691499,  1.14807349,  1.14923334,  1.15039453,\n",
       "          1.15155708,  1.15272097,  1.15388623,  1.15505284,  1.15622082,\n",
       "          1.15739016,  1.15856087,  1.15973295,  1.16090641,  1.16208124,\n",
       "          1.16325746,  1.16443507,  1.16561406,  1.16679444,  1.16797622,\n",
       "          1.1691594 ,  1.17034397,  1.17152996,  1.17271735,  1.17390615,\n",
       "          1.17509637,  1.176288  ,  1.17748106,  1.17867554,  1.17987146,\n",
       "          1.1810688 ,  1.18226758,  1.1834678 ,  1.18466945,  1.18587256,\n",
       "          1.18707711,  1.18828312,  1.18949059,  1.19069951,  1.1919099 ,\n",
       "          1.19312175,  1.19433507,  1.19554987,  1.19676614,  1.1979839 ,\n",
       "          1.19920314,  1.20042387,  1.20164609,  1.20286981,  1.20409503,\n",
       "          1.20532175,  1.20654997,  1.20777971,  1.20901096,  1.21024373,\n",
       "          1.21147802,  1.21271383,  1.21395118,  1.21519005,  1.21643047,\n",
       "          1.21767242,  1.21891592,  1.22016097,  1.22140757,  1.22265572,\n",
       "          1.22390544,  1.22515672,  1.22640956,  1.22766398,  1.22891998,\n",
       "          1.23017755,  1.23143671,  1.23269745,  1.23395978,  1.23522372,\n",
       "          1.23648925,  1.23775638,  1.23902512,  1.24029548,  1.24156745,\n",
       "          1.24284104,  1.24411625,  1.24539309,  1.24667156,  1.24795168,\n",
       "          1.24923343,  1.25051682,  1.25180187,  1.25308857,  1.25437693,\n",
       "          1.25566694,  1.25695863,  1.25825199,  1.25954702,  1.26084373,\n",
       "          1.26214212,  1.2634422 ,  1.26474398,  1.26604745,  1.26735262,\n",
       "          1.2686595 ,  1.26996809,  1.27127839,  1.27259041,  1.27390416,\n",
       "          1.27521963,  1.27653684,  1.27785578,  1.27917647,  1.2804989 ,\n",
       "          1.28182308,  1.28314902,  1.28447672,  1.28580619,  1.28713742,\n",
       "          1.28847043,  1.28980522,  1.29114179,  1.29248015,  1.29382031,\n",
       "          1.29516226,  1.29650602,  1.29785158,  1.29919896,  1.30054815,\n",
       "          1.30189917,  1.30325202,  1.3046067 ,  1.30596321,  1.30732157,\n",
       "          1.30868178,  1.31004384,  1.31140776,  1.31277354,  1.31414118,\n",
       "          1.3155107 ,  1.3168821 ,  1.31825539,  1.31963056,  1.32100762,\n",
       "          1.32238658,  1.32376745,  1.32515023,  1.32653492,  1.32792153,\n",
       "          1.32931007,  1.33070054,  1.33209294,  1.33348729,  1.33488358,\n",
       "          1.33628182,  1.33768203,  1.33908419,  1.34048833,  1.34189444,\n",
       "          1.34330253,  1.3447126 ,  1.34612467,  1.34753873,  1.34895479,\n",
       "          1.35037287,  1.35179295,  1.35321506,  1.35463919,  1.35606535,\n",
       "          1.35749355,  1.35892379,  1.36035608,  1.36179043,  1.36322683,\n",
       "          1.36466531,  1.36610585,  1.36754847,  1.36899318,  1.37043997,\n",
       "          1.37188887,  1.37333986,  1.37479296,  1.37624818,  1.37770552,\n",
       "          1.37916499,  1.38062658,  1.38209032,  1.38355621,  1.38502424,\n",
       "          1.38649444,  1.38796679,  1.38944132,  1.39091803,  1.39239692,\n",
       "          1.393878  ,  1.39536128,  1.39684676,  1.39833445,  1.39982436,\n",
       "          1.40131649,  1.40281085,  1.40430745,  1.40580629,  1.40730738,\n",
       "          1.40881073,  1.41031634,  1.41182422,  1.41333438,  1.41484682,\n",
       "          1.41636155,  1.41787858,  1.41939792,  1.42091957,  1.42244353,\n",
       "          1.42396983,  1.42549845,  1.42702942,  1.42856273,  1.4300984 ,\n",
       "          1.43163643,  1.43317683,  1.43471961,  1.43626476,  1.43781232,\n",
       "          1.43936226,  1.44091462,  1.44246939,  1.44402658,  1.4455862 ,\n",
       "          1.44714825,  1.44871275,  1.4502797 ,  1.45184911,  1.45342099,\n",
       "          1.45499534,  1.45657217,  1.4581515 ,  1.45973332,  1.46131765,\n",
       "          1.46290449,  1.46449385,  1.46608575,  1.46768018,  1.46927716,\n",
       "          1.47087669,  1.47247879,  1.47408345,  1.4756907 ,  1.47730053,\n",
       "          1.47891296,  1.480528  ,  1.48214564,  1.48376591,  1.4853888 ,\n",
       "          1.48701434,  1.48864252,  1.49027336,  1.49190686,  1.49354303,\n",
       "          1.49518188,  1.49682343,  1.49846767,  1.50011462,  1.50176429,\n",
       "          1.50341669,  1.50507181,  1.50672969,  1.50839031,  1.5100537 ,\n",
       "          1.51171986,  1.5133888 ,  1.51506054,  1.51673507,  1.51841241,\n",
       "          1.52009256,  1.52177555,  1.52346137,  1.52515004,  1.52684156,\n",
       "          1.52853596,  1.53023322,  1.53193338,  1.53363642,  1.53534238,\n",
       "          1.53705125,  1.53876304,  1.54047777,  1.54219545,  1.54391608,\n",
       "          1.54563967,  1.54736624,  1.5490958 ,  1.55082836,  1.55256392,\n",
       "          1.5543025 ,  1.5560441 ,  1.55778875,  1.55953645,  1.5612872 ,\n",
       "          1.56304102,  1.56479793,  1.56655793,  1.56832103,  1.57008725,\n",
       "          1.57185659,  1.57362906,  1.57540469,  1.57718347,  1.57896542,\n",
       "          1.58075055,  1.58253888,  1.58433041,  1.58612515,  1.58792312,\n",
       "          1.58972433,  1.59152879,  1.59333652,  1.59514751,  1.59696179,\n",
       "          1.59877937,  1.60060026,  1.60242447,  1.60425202,  1.60608291,\n",
       "          1.60791716,  1.60975478,  1.61159578,  1.61344018,  1.61528798,\n",
       "          1.61713921,  1.61899387,  1.62085198,  1.62271354,  1.62457858,\n",
       "          1.6264471 ,  1.62831912,  1.63019465,  1.63207371,  1.6339563 ,\n",
       "          1.63584244,  1.63773215,  1.63962544,  1.64152231,  1.64342279,\n",
       "          1.64532689,  1.64723463,  1.64914601,  1.65106105,  1.65297976,\n",
       "          1.65490216,  1.65682827,  1.65875809,  1.66069165,  1.66262895,\n",
       "          1.66457001,  1.66651484,  1.66846347,  1.6704159 ,  1.67237215,\n",
       "          1.67433223,  1.67629616,  1.67826396,  1.68023564,  1.68221121,\n",
       "          1.68419069,  1.6861741 ,  1.68816145,  1.69015276,  1.69214804,\n",
       "          1.69414732,  1.69615059,  1.69815789,  1.70016922,  1.70218461,\n",
       "          1.70420407,  1.70622761,  1.70825526,  1.71028703,  1.71232293,\n",
       "          1.71436299,  1.71640722,  1.71845563,  1.72050825,  1.72256509,\n",
       "          1.72462617,  1.72669151,  1.72876112,  1.73083503,  1.73291324,\n",
       "          1.73499579,  1.73708267,  1.73917393,  1.74126956,  1.7433696 ,\n",
       "          1.74547405,  1.74758295,  1.7496963 ,  1.75181412,  1.75393644,\n",
       "          1.75606328,  1.75819465,  1.76033057,  1.76247106,  1.76461614,\n",
       "          1.76676584,  1.76892016,  1.77107914,  1.77324279,  1.77541113,\n",
       "          1.77758418,  1.77976196,  1.7819445 ,  1.78413181,  1.78632392,\n",
       "          1.78852084,  1.7907226 ,  1.79292922,  1.79514071,  1.79735711,\n",
       "          1.79957843,  1.8018047 ,  1.80403594,  1.80627216,  1.8085134 ,\n",
       "          1.81075967,  1.813011  ,  1.8152674 ,  1.81752891,  1.81979555,\n",
       "          1.82206734,  1.8243443 ,  1.82662645,  1.82891383,  1.83120645,\n",
       "          1.83350433,  1.83580751,  1.83811601,  1.84042985,  1.84274905,\n",
       "          1.84507365,  1.84740366,  1.84973911,  1.85208004,  1.85442645,\n",
       "          1.85677838,  1.85913586,  1.86149891,  1.86386755,  1.86624182,\n",
       "          1.86862174,  1.87100734,  1.87339864,  1.87579567,  1.87819846,\n",
       "          1.88060705,  1.88302144,  1.88544168,  1.88786779,  1.8902998 ,\n",
       "          1.89273774,  1.89518164,  1.89763153,  1.90008743,  1.90254938,\n",
       "          1.9050174 ,  1.90749153,  1.9099718 ,  1.91245824,  1.91495087,\n",
       "          1.91744973,  1.91995485,  1.92246626,  1.924984  ,  1.92750809,\n",
       "          1.93003857,  1.93257547,  1.93511882,  1.93766865,  1.940225  ,\n",
       "          1.94278791,  1.9453574 ,  1.94793351,  1.95051627,  1.95310572,\n",
       "          1.95570189,  1.95830482,  1.96091455,  1.9635311 ,  1.96615452,\n",
       "          1.96878484,  1.97142209,  1.97406632,  1.97671755,  1.97937584,\n",
       "          1.98204121,  1.98471371,  1.98739336,  1.99008022,  1.99277431,\n",
       "          1.99547568,  1.99818437,  2.00090042,  2.00362386,  2.00635474,\n",
       "          2.0090931 ,  2.01183898,  2.01459242,  2.01735346,  2.02012214,\n",
       "          2.02289851,  2.02568262,  2.02847449,  2.03127418,  2.03408173,\n",
       "          2.03689719,  2.03972059,  2.04255199,  2.04539143,  2.04823896,\n",
       "          2.05109461,  2.05395845,  2.05683051,  2.05971084,  2.06259949,\n",
       "          2.06549651,  2.06840195,  2.07131585,  2.07423827,  2.07716925,\n",
       "          2.08010885,  2.08305712,  2.08601411,  2.08897986,  2.09195444,\n",
       "          2.09493789,  2.09793027,  2.10093163,  2.10394203,  2.10696151,\n",
       "          2.10999014,  2.11302797,  2.11607506,  2.11913146,  2.12219723,\n",
       "          2.12527243,  2.12835712,  2.13145134,  2.13455518,  2.13766868,\n",
       "          2.1407919 ,  2.1439249 ,  2.14706776,  2.15022052,  2.15338325,\n",
       "          2.15655602,  2.15973888,  2.16293191,  2.16613517,  2.16934872,\n",
       "          2.17257263,  2.17580697,  2.17905181,  2.1823072 ,  2.18557323,\n",
       "          2.18884996,  2.19213746,  2.19543581,  2.19874507,  2.20206532,\n",
       "          2.20539663,  2.20873908,  2.21209273,  2.21545767,  2.21883397,\n",
       "          2.22222171,  2.22562096,  2.22903181,  2.23245433,  2.23588861,\n",
       "          2.23933472,  2.24279274,  2.24626277,  2.24974488,  2.25323916,\n",
       "          2.25674569,  2.26026456,  2.26379585,  2.26733966,  2.27089608,\n",
       "          2.27446518,  2.27804707,  2.28164184,  2.28524957,  2.28887037,\n",
       "          2.29250433,  2.29615154,  2.2998121 ,  2.30348611,  2.30717367,\n",
       "          2.31087487,  2.31458983,  2.31831864,  2.3220614 ,  2.32581823,\n",
       "          2.32958922,  2.33337448,  2.33717413,  2.34098828,  2.34481702,\n",
       "          2.34866048,  2.35251877,  2.35639201,  2.3602803 ,  2.36418377,\n",
       "          2.36810254,  2.37203673,  2.37598645,  2.37995184,  2.38393301,\n",
       "          2.3879301 ,  2.39194323,  2.39597253,  2.40001813,  2.40408016,\n",
       "          2.40815876,  2.41225406,  2.41636621,  2.42049533,  2.42464157,\n",
       "          2.42880508,  2.432986  ,  2.43718446,  2.44140063,  2.44563465,\n",
       "          2.44988668,  2.45415686,  2.45844535,  2.46275231,  2.46707791,\n",
       "          2.47142229,  2.47578563,  2.4801681 ,  2.48456985,  2.48899107,\n",
       "          2.49343192,  2.49789258,  2.50237322,  2.50687403,  2.5113952 ,\n",
       "          2.51593689,  2.52049931,  2.52508263,  2.52968706,  2.53431279,\n",
       "          2.53896002,  2.54362894,  2.54831977,  2.5530327 ,  2.55776795,\n",
       "          2.56252573,  2.56730625,  2.57210974,  2.57693641,  2.58178649,\n",
       "          2.58666021,  2.5915578 ,  2.5964795 ,  2.60142553,  2.60639616,\n",
       "          2.61139161,  2.61641214,  2.621458  ,  2.62652946,  2.63162676,\n",
       "          2.63675019,  2.64189999,  2.64707646,  2.65227985,  2.65751047,\n",
       "          2.66276859,  2.6680545 ,  2.67336851,  2.6787109 ,  2.68408199,\n",
       "          2.68948208,  2.69491149,  2.70037054,  2.70585955,  2.71137887,\n",
       "          2.71692881,  2.72250972,  2.72812196,  2.73376588,  2.73944182,\n",
       "          2.74515017,  2.75089129,  2.75666556,  2.76247337,  2.76831511,\n",
       "          2.77419117,  2.78010196,  2.7860479 ,  2.79202941,  2.79804691,\n",
       "          2.80410083,  2.81019164,  2.81631976,  2.82248568,  2.82868984,\n",
       "          2.83493274,  2.84121486,  2.84753669,  2.85389875,  2.86030154,\n",
       "          2.86674558,  2.87323143,  2.87975961,  2.88633069,  2.89294524,\n",
       "          2.89960383,  2.90630705,  2.91305551,  2.91984983,  2.92669062,\n",
       "          2.93357853,  2.94051421,  2.94749833,  2.95453157,  2.96161463,\n",
       "          2.96874822,  2.97593306,  2.9831699 ,  2.99045949,  2.99780261,\n",
       "          3.00520006,  3.01265263,  3.02016116,  3.02772649,  3.0353495 ,\n",
       "          3.04303106,  3.05077208,  3.0585735 ,  3.06643626,  3.07436133,\n",
       "          3.08234971,  3.09040241,  3.0985205 ,  3.10670502,  3.11495708,\n",
       "          3.12327781,  3.13166835,  3.14012989,  3.14866364,  3.15727084,\n",
       "          3.16595277,  3.17471074,  3.18354608,  3.19246019,  3.20145447,\n",
       "          3.21053038,  3.21968942,  3.22893313,  3.23826308,  3.2476809 ,\n",
       "          3.25718825,  3.26678687,  3.27647851,  3.286265  ,  3.29614821,\n",
       "          3.30613008,  3.31621259,  3.32639779,  3.3366878 ,  3.34708479,\n",
       "          3.35759102,  3.36820881,  3.37894054,  3.38978869,  3.40075582,\n",
       "          3.41184456,  3.42305764,  3.43439788,  3.44586819,  3.45747161,\n",
       "          3.46921124,  3.48109034,  3.49311224,  3.50528043,  3.51759851,\n",
       "          3.53007022,  3.54269945,  3.55549021,  3.56844669,  3.58157325,\n",
       "          3.59487442,  3.60835489,  3.62201957,  3.63587357,  3.64992219,\n",
       "          3.664171  ,  3.67862578,  3.69329256,  3.70817766,  3.72328768,\n",
       "          3.73862953,  3.75421041,  3.77003791,  3.78611995,  3.80246486,\n",
       "          3.81908137,  3.83597866,  3.85316638,  3.87065469,  3.8884543 ,\n",
       "          3.90657648,  3.92503315,  3.94383688,  3.96300098,  3.98253953,\n",
       "          4.00246745,  4.02280059,  4.04355576,  4.06475085,  4.08640492,\n",
       "          4.10853829,  4.13117265,  4.15433121,  4.17803884,  4.20232219,\n",
       "          4.22720993,  4.25273291,  4.27892442,  4.30582041,  4.33345984,\n",
       "          4.36188498,  4.3911418 ,  4.42128045,  4.45235573,  4.48442775,\n",
       "          4.51756257,  4.55183303,  4.58731977,  4.62411229,  4.66231039,\n",
       "          4.70202572,  4.74338383,  4.78652651,  4.83161473,  4.87883228,\n",
       "          4.9283903 ,  4.98053296,  5.03554476,  5.09375995,  5.15557477,\n",
       "          5.2214639 ,  5.29200257,  5.36789712,  5.45002822,  5.53951332,\n",
       "          5.63780008,  5.74681071,  5.8691752 ,  6.00862804,  6.17072894,\n",
       "          6.36428806,  6.60452834,  6.92137102,  7.38783943,  8.27461475]),\n",
       "  array([  1.01629133e-03,   2.10786092e-03,   2.43740604e-03,\n",
       "           3.53451980e-03,   3.55056421e-03,   4.63166343e-03,\n",
       "           4.92141561e-03,   6.29953702e-03,   6.74013834e-03,\n",
       "           6.82623590e-03,   9.00895101e-03,   9.36139865e-03,\n",
       "           9.83392128e-03,   1.08488254e-02,   1.08993770e-02,\n",
       "           1.14241923e-02,   1.24635692e-02,   1.25566142e-02,\n",
       "           1.26645263e-02,   1.32359978e-02,   1.44411137e-02,\n",
       "           1.45673205e-02,   1.62740591e-02,   1.77495946e-02,\n",
       "           1.82040443e-02,   1.92159758e-02,   1.98242324e-02,\n",
       "           2.04678875e-02,   2.06172586e-02,   2.13277793e-02,\n",
       "           2.14499572e-02,   2.40975155e-02,   2.41162093e-02,\n",
       "           2.42602413e-02,   2.43488438e-02,   2.52080691e-02,\n",
       "           2.66961625e-02,   2.69246428e-02,   2.71508621e-02,\n",
       "           2.75054537e-02,   2.80329491e-02,   2.81327039e-02,\n",
       "           3.09859480e-02,   3.17243101e-02,   3.20321505e-02,\n",
       "           3.25256158e-02,   3.26533133e-02,   3.46206503e-02,\n",
       "           3.48854361e-02,   3.66679554e-02,   3.67300151e-02,\n",
       "           3.70007169e-02,   3.91671268e-02,   3.98016012e-02,\n",
       "           3.98972783e-02,   4.11432300e-02,   4.26279053e-02,\n",
       "           4.36107500e-02,   4.55506152e-02,   4.72415687e-02,\n",
       "           4.81645678e-02,   5.10564546e-02,   5.49044028e-02,\n",
       "           5.49615338e-02,   5.53416700e-02,   5.77446601e-02,\n",
       "           5.89883554e-02,   6.20159751e-02,   6.28144747e-02,\n",
       "           6.33371353e-02,   6.40124975e-02,   6.55769242e-02,\n",
       "           6.56253288e-02,   6.56427831e-02,   6.61143052e-02,\n",
       "           6.66350323e-02,   7.09888636e-02,   7.14277359e-02,\n",
       "           7.22617244e-02,   7.27055758e-02,   7.37568385e-02,\n",
       "           7.41390839e-02,   7.51378699e-02,   7.70765342e-02,\n",
       "           7.87421890e-02,   7.98010080e-02,   7.98473193e-02,\n",
       "           8.04767818e-02,   8.07767096e-02,   8.07957578e-02,\n",
       "           8.18687955e-02,   8.29651949e-02,   8.31624865e-02,\n",
       "           8.73783727e-02,   8.75757047e-02,   8.95583095e-02,\n",
       "           8.95805323e-02,   8.99202268e-02,   9.08507354e-02,\n",
       "           9.62591996e-02,   9.72143938e-02,   9.83238432e-02,\n",
       "           9.94500116e-02,   9.94895575e-02,   1.01332071e-01,\n",
       "           1.01371472e-01,   1.01439109e-01,   1.01799232e-01,\n",
       "           1.03584272e-01,   1.03982317e-01,   1.04174956e-01,\n",
       "           1.07106651e-01,   1.08628736e-01,   1.08948488e-01,\n",
       "           1.09078258e-01,   1.10169747e-01,   1.11155339e-01,\n",
       "           1.11615062e-01,   1.12029870e-01,   1.12245044e-01,\n",
       "           1.15666392e-01,   1.15730758e-01,   1.16816894e-01,\n",
       "           1.16946380e-01,   1.17246351e-01,   1.18700415e-01,\n",
       "           1.19608319e-01,   1.19631480e-01,   1.20927599e-01,\n",
       "           1.21881829e-01,   1.21924201e-01,   1.23686018e-01,\n",
       "           1.25856440e-01,   1.25883040e-01,   1.26946973e-01,\n",
       "           1.30087348e-01,   1.30927942e-01,   1.31741354e-01,\n",
       "           1.31784245e-01,   1.36212116e-01,   1.36576075e-01,\n",
       "           1.36790881e-01,   1.37807523e-01,   1.38450720e-01,\n",
       "           1.40265222e-01,   1.40606187e-01,   1.41349134e-01,\n",
       "           1.44894749e-01,   1.46613057e-01,   1.47034873e-01,\n",
       "           1.48977960e-01,   1.49948186e-01,   1.50184036e-01,\n",
       "           1.50378971e-01,   1.50891880e-01,   1.51644181e-01,\n",
       "           1.53418989e-01,   1.54243420e-01,   1.55481013e-01,\n",
       "           1.57975439e-01,   1.59675115e-01,   1.62531494e-01,\n",
       "           1.64373714e-01,   1.66384259e-01,   1.67207058e-01,\n",
       "           1.67710909e-01,   1.68901532e-01,   1.71452472e-01,\n",
       "           1.74135774e-01,   1.77045594e-01,   1.78672885e-01,\n",
       "           1.82522493e-01,   1.83245143e-01,   1.83352498e-01,\n",
       "           1.84552206e-01,   1.85754836e-01,   1.86085647e-01,\n",
       "           1.86948473e-01,   1.87838941e-01,   1.87980749e-01,\n",
       "           1.88196428e-01,   1.88231546e-01,   1.88712688e-01,\n",
       "           1.89818966e-01,   1.91780099e-01,   1.92446084e-01,\n",
       "           1.92970814e-01,   1.93813230e-01,   1.96350375e-01,\n",
       "           1.96998341e-01,   1.97307705e-01,   1.98952396e-01,\n",
       "           1.99143007e-01,   1.99733635e-01,   2.00397806e-01,\n",
       "           2.01382256e-01,   2.01476315e-01,   2.01946638e-01,\n",
       "           2.02205992e-01,   2.04627245e-01,   2.05861404e-01,\n",
       "           2.07345791e-01,   2.08844116e-01,   2.09225703e-01,\n",
       "           2.10054034e-01,   2.18097518e-01,   2.18415413e-01,\n",
       "           2.18655854e-01,   2.18757680e-01,   2.19142736e-01,\n",
       "           2.20304445e-01,   2.21799499e-01,   2.24429968e-01,\n",
       "           2.27423675e-01,   2.29180808e-01,   2.32472398e-01,\n",
       "           2.32806070e-01,   2.32849308e-01,   2.33464194e-01,\n",
       "           2.35313878e-01,   2.36168013e-01,   2.36839272e-01,\n",
       "           2.37156300e-01,   2.37288335e-01,   2.38560164e-01,\n",
       "           2.43245600e-01,   2.43817979e-01,   2.44827287e-01,\n",
       "           2.45558848e-01,   2.47735689e-01,   2.48339584e-01,\n",
       "           2.48516461e-01,   2.49747323e-01,   2.50006325e-01,\n",
       "           2.51786151e-01,   2.53427341e-01,   2.57520238e-01,\n",
       "           2.58941811e-01,   2.60317330e-01,   2.61903335e-01,\n",
       "           2.62012118e-01,   2.62273039e-01,   2.63586372e-01,\n",
       "           2.63671219e-01,   2.65484932e-01,   2.68888959e-01,\n",
       "           2.70677756e-01,   2.73490653e-01,   2.74237834e-01,\n",
       "           2.76313072e-01,   2.76952546e-01,   2.77701813e-01,\n",
       "           2.79159972e-01,   2.80928300e-01,   2.83915793e-01,\n",
       "           2.84251914e-01,   2.84689249e-01,   2.85116921e-01,\n",
       "           2.85534657e-01,   2.87100334e-01,   2.87635478e-01,\n",
       "           2.92696215e-01,   2.93581866e-01,   2.94590120e-01,\n",
       "           2.96532165e-01,   2.98004740e-01,   2.98483986e-01,\n",
       "           2.98504984e-01,   2.98912474e-01,   2.99697505e-01,\n",
       "           3.02157888e-01,   3.02970653e-01,   3.04170300e-01,\n",
       "           3.04320315e-01,   3.05528339e-01,   3.06854835e-01,\n",
       "           3.07234571e-01,   3.08326270e-01,   3.08935505e-01,\n",
       "           3.11205157e-01,   3.12349534e-01,   3.13161225e-01,\n",
       "           3.15244716e-01,   3.15525982e-01,   3.18670519e-01,\n",
       "           3.20095010e-01,   3.20485231e-01,   3.23809998e-01,\n",
       "           3.25880698e-01,   3.26426005e-01,   3.31691068e-01,\n",
       "           3.33179279e-01,   3.34282700e-01,   3.36406392e-01,\n",
       "           3.37987897e-01,   3.38178939e-01,   3.38186284e-01,\n",
       "           3.38969504e-01,   3.40735732e-01,   3.41534810e-01,\n",
       "           3.41965496e-01,   3.43219794e-01,   3.43928214e-01,\n",
       "           3.45168489e-01,   3.47537420e-01,   3.47826731e-01,\n",
       "           3.48492117e-01,   3.49418782e-01,   3.49604075e-01,\n",
       "           3.54276041e-01,   3.54843475e-01,   3.57473484e-01,\n",
       "           3.59965554e-01,   3.62770256e-01,   3.62835665e-01,\n",
       "           3.65163967e-01,   3.66717473e-01,   3.66834957e-01,\n",
       "           3.69334633e-01,   3.70534943e-01,   3.71650016e-01,\n",
       "           3.72737276e-01,   3.73474784e-01,   3.74257575e-01,\n",
       "           3.74631370e-01,   3.74854906e-01,   3.75145164e-01,\n",
       "           3.77438761e-01,   3.77871153e-01,   3.78331751e-01,\n",
       "           3.79048159e-01,   3.79147124e-01,   3.82611070e-01,\n",
       "           3.83190142e-01,   3.83401011e-01,   3.87534838e-01,\n",
       "           3.89043944e-01,   3.89125792e-01,   3.89182448e-01,\n",
       "           3.89771191e-01,   3.90229642e-01,   3.91131814e-01,\n",
       "           3.94531607e-01,   3.98479535e-01,   3.98818849e-01,\n",
       "           4.03443499e-01,   4.05994218e-01,   4.08443572e-01,\n",
       "           4.08965012e-01,   4.09694546e-01,   4.11724529e-01,\n",
       "           4.13774885e-01,   4.14991300e-01,   4.16090319e-01,\n",
       "           4.19746413e-01,   4.21411783e-01,   4.26106970e-01,\n",
       "           4.26610651e-01,   4.27046532e-01,   4.27574925e-01,\n",
       "           4.27921708e-01,   4.31068217e-01,   4.31747364e-01,\n",
       "           4.33565922e-01,   4.34230784e-01,   4.34286727e-01,\n",
       "           4.39569880e-01,   4.40692541e-01,   4.40836762e-01,\n",
       "           4.42528464e-01,   4.45464436e-01,   4.47639670e-01,\n",
       "           4.48225686e-01,   4.48555868e-01,   4.48713875e-01,\n",
       "           4.51772267e-01,   4.52346700e-01,   4.54768951e-01,\n",
       "           4.55279218e-01,   4.61251811e-01,   4.61452426e-01,\n",
       "           4.66236925e-01,   4.66891140e-01,   4.67621367e-01,\n",
       "           4.67978738e-01,   4.68109598e-01,   4.68881021e-01,\n",
       "           4.69004846e-01,   4.71279426e-01,   4.73088643e-01,\n",
       "           4.73214316e-01,   4.77367458e-01,   4.77406248e-01,\n",
       "           4.78316857e-01,   4.78697810e-01,   4.80607870e-01,\n",
       "           4.80936777e-01,   4.81961204e-01,   4.81991505e-01,\n",
       "           4.82486643e-01,   4.83313355e-01,   4.84490798e-01,\n",
       "           4.85512999e-01,   4.86385526e-01,   4.89880494e-01,\n",
       "           4.91362739e-01,   4.91385162e-01,   4.91567813e-01,\n",
       "           4.92270173e-01,   4.93293958e-01,   4.93532601e-01,\n",
       "           4.96153770e-01,   4.96235267e-01,   5.03085152e-01,\n",
       "           5.03336004e-01,   5.08243701e-01,   5.09772571e-01,\n",
       "           5.10426465e-01,   5.12333531e-01,   5.12373346e-01,\n",
       "           5.16441643e-01,   5.17266721e-01,   5.20987236e-01,\n",
       "           5.22737674e-01,   5.23490245e-01,   5.26328468e-01,\n",
       "           5.29646578e-01,   5.30132607e-01,   5.32816783e-01,\n",
       "           5.33184336e-01,   5.35043085e-01,   5.35808243e-01,\n",
       "           5.36451767e-01,   5.37663210e-01,   5.37965192e-01,\n",
       "           5.38549084e-01,   5.38994296e-01,   5.39467590e-01,\n",
       "           5.41227348e-01,   5.42059835e-01,   5.46122389e-01,\n",
       "           5.51918360e-01,   5.53323648e-01,   5.57355581e-01,\n",
       "           5.58106344e-01,   5.58295695e-01,   5.58630766e-01,\n",
       "           5.59526590e-01,   5.62137656e-01,   5.64155540e-01,\n",
       "           5.65884883e-01,   5.71815775e-01,   5.71996459e-01,\n",
       "           5.73923882e-01,   5.75663355e-01,   5.76617049e-01,\n",
       "           5.77361754e-01,   5.78261539e-01,   5.80731387e-01,\n",
       "           5.82115147e-01,   5.83240696e-01,   5.84508825e-01,\n",
       "           5.84778838e-01,   5.85983193e-01,   5.88003287e-01,\n",
       "           5.89351581e-01,   5.89658856e-01,   5.96417806e-01,\n",
       "           5.99002693e-01,   6.05407293e-01,   6.06490845e-01,\n",
       "           6.10925238e-01,   6.15742203e-01,   6.16119769e-01,\n",
       "           6.18695249e-01,   6.19571343e-01,   6.23107973e-01,\n",
       "           6.25150820e-01,   6.25416920e-01,   6.27443721e-01,\n",
       "           6.27996845e-01,   6.31195110e-01,   6.31282066e-01,\n",
       "           6.34483440e-01,   6.37042351e-01,   6.37678975e-01,\n",
       "           6.39209950e-01,   6.42901897e-01,   6.44316318e-01,\n",
       "           6.45713370e-01,   6.46141122e-01,   6.51869946e-01,\n",
       "           6.52948664e-01,   6.57230335e-01,   6.57763047e-01,\n",
       "           6.62309546e-01,   6.66390280e-01,   6.68785370e-01,\n",
       "           6.69303386e-01,   6.70385131e-01,   6.72506305e-01,\n",
       "           6.72646673e-01,   6.74982702e-01,   6.75604583e-01,\n",
       "           6.75618164e-01,   6.78657466e-01,   6.83185962e-01,\n",
       "           6.85422065e-01,   6.85824741e-01,   6.87430693e-01,\n",
       "           6.90232972e-01,   6.93985700e-01,   6.94461450e-01,\n",
       "           6.95013194e-01,   6.96739906e-01,   6.97297534e-01,\n",
       "           6.99266565e-01,   6.99823781e-01,   7.04475074e-01,\n",
       "           7.06138834e-01,   7.06828192e-01,   7.10390679e-01,\n",
       "           7.14589257e-01,   7.18341252e-01,   7.19130036e-01,\n",
       "           7.20230559e-01,   7.22898271e-01,   7.25169072e-01,\n",
       "           7.30428650e-01,   7.34079236e-01,   7.36705923e-01,\n",
       "           7.37111339e-01,   7.38594617e-01,   7.40301681e-01,\n",
       "           7.42587930e-01,   7.43907773e-01,   7.45501138e-01,\n",
       "           7.46965890e-01,   7.47351352e-01,   7.51330196e-01,\n",
       "           7.59321926e-01,   7.62895395e-01,   7.64501706e-01,\n",
       "           7.68962872e-01,   7.69501366e-01,   7.70870530e-01,\n",
       "           7.74192433e-01,   7.74292833e-01,   7.75820449e-01,\n",
       "           7.77045181e-01,   7.79057414e-01,   7.83346885e-01,\n",
       "           7.85278150e-01,   7.88155896e-01,   7.89613167e-01,\n",
       "           7.96592615e-01,   7.96909298e-01,   7.97642921e-01,\n",
       "           8.00265733e-01,   8.00955260e-01,   8.06099977e-01,\n",
       "           8.09811487e-01,   8.10586247e-01,   8.11660206e-01,\n",
       "           8.14375241e-01,   8.15576957e-01,   8.16331581e-01,\n",
       "           8.16727135e-01,   8.17352213e-01,   8.21930381e-01,\n",
       "           8.24700654e-01,   8.25466796e-01,   8.29415120e-01,\n",
       "           8.32537918e-01,   8.34064901e-01,   8.37308506e-01,\n",
       "           8.39858564e-01,   8.42261786e-01,   8.46571239e-01,\n",
       "           8.47163485e-01,   8.47541629e-01,   8.48922030e-01,\n",
       "           8.52888077e-01,   8.53088424e-01,   8.53889534e-01,\n",
       "           8.54894497e-01,   8.56633049e-01,   8.58100074e-01,\n",
       "           8.59610421e-01,   8.60332884e-01,   8.61095417e-01,\n",
       "           8.62132670e-01,   8.66056287e-01,   8.68400083e-01,\n",
       "           8.69330824e-01,   8.71177476e-01,   8.73127913e-01,\n",
       "           8.75699802e-01,   8.82351847e-01,   8.82528672e-01,\n",
       "           8.86694723e-01,   8.90270467e-01,   8.92776978e-01,\n",
       "           8.95366635e-01,   8.96515060e-01,   9.00272075e-01,\n",
       "           9.00686271e-01,   9.01585148e-01,   9.04051030e-01,\n",
       "           9.06331827e-01,   9.10539207e-01,   9.12488068e-01,\n",
       "           9.13362881e-01,   9.15028781e-01,   9.17844785e-01,\n",
       "           9.20996253e-01,   9.21817814e-01,   9.22819680e-01,\n",
       "           9.23806243e-01,   9.23999022e-01,   9.26884978e-01,\n",
       "           9.28808201e-01,   9.33894908e-01,   9.36424924e-01,\n",
       "           9.38362327e-01,   9.41866026e-01,   9.42331238e-01,\n",
       "           9.42663178e-01,   9.49101674e-01,   9.51848621e-01,\n",
       "           9.52356617e-01,   9.57531157e-01,   9.58126714e-01,\n",
       "           9.63232562e-01,   9.70681318e-01,   9.72244560e-01,\n",
       "           9.72938262e-01,   9.75223485e-01,   9.78514229e-01,\n",
       "           9.80452456e-01,   9.88906372e-01,   9.94512320e-01,\n",
       "           9.97853582e-01,   1.00380860e+00,   1.00972979e+00,\n",
       "           1.01030974e+00,   1.01175321e+00,   1.01280295e+00,\n",
       "           1.01289781e+00,   1.01528214e+00,   1.01664740e+00,\n",
       "           1.01959366e+00,   1.01965475e+00,   1.02069596e+00,\n",
       "           1.02293746e+00,   1.02729279e+00,   1.03237018e+00,\n",
       "           1.04397831e+00,   1.04816472e+00,   1.05872197e+00,\n",
       "           1.05894022e+00,   1.05969152e+00,   1.06053058e+00,\n",
       "           1.06533049e+00,   1.07012873e+00,   1.07456894e+00,\n",
       "           1.07459008e+00,   1.07527115e+00,   1.07744949e+00,\n",
       "           1.08627848e+00,   1.08889189e+00,   1.09013253e+00,\n",
       "           1.09269953e+00,   1.09798511e+00,   1.10825407e+00,\n",
       "           1.11233581e+00,   1.11410062e+00,   1.11496524e+00,\n",
       "           1.11511752e+00,   1.12170173e+00,   1.12261743e+00,\n",
       "           1.12530900e+00,   1.13437919e+00,   1.13528452e+00,\n",
       "           1.13583757e+00,   1.14096590e+00,   1.14159948e+00,\n",
       "           1.14226190e+00,   1.14287115e+00,   1.14674270e+00,\n",
       "           1.15252765e+00,   1.15601464e+00,   1.15625181e+00,\n",
       "           1.15703070e+00,   1.15811850e+00,   1.15942454e+00,\n",
       "           1.16147887e+00,   1.16989756e+00,   1.18043563e+00,\n",
       "           1.18147599e+00,   1.18464658e+00,   1.18793748e+00,\n",
       "           1.19293161e+00,   1.19904376e+00,   1.20207014e+00,\n",
       "           1.20443791e+00,   1.20606293e+00,   1.21174744e+00,\n",
       "           1.21382334e+00,   1.21454633e+00,   1.21687673e+00,\n",
       "           1.22526473e+00,   1.23130553e+00,   1.23227088e+00,\n",
       "           1.24483752e+00,   1.24491870e+00,   1.24671061e+00,\n",
       "           1.24800129e+00,   1.24903750e+00,   1.25218390e+00,\n",
       "           1.25514565e+00,   1.25914387e+00,   1.26168965e+00,\n",
       "           1.26187121e+00,   1.26221409e+00,   1.26354558e+00,\n",
       "           1.26490889e+00,   1.26703304e+00,   1.28479469e+00,\n",
       "           1.28539250e+00,   1.28603115e+00,   1.28926977e+00,\n",
       "           1.29316073e+00,   1.29560194e+00,   1.29841718e+00,\n",
       "           1.30379682e+00,   1.30405905e+00,   1.30524944e+00,\n",
       "           1.31243697e+00,   1.32029742e+00,   1.32423643e+00,\n",
       "           1.32518379e+00,   1.33500773e+00,   1.33942360e+00,\n",
       "           1.33972831e+00,   1.34022554e+00,   1.34619086e+00,\n",
       "           1.34677420e+00,   1.35212037e+00,   1.35266285e+00,\n",
       "           1.35289541e+00,   1.35315796e+00,   1.35819065e+00,\n",
       "           1.36056886e+00,   1.38432073e+00,   1.38982791e+00,\n",
       "           1.39782923e+00,   1.40136584e+00,   1.40260897e+00,\n",
       "           1.40690800e+00,   1.42482493e+00,   1.42573000e+00,\n",
       "           1.42648019e+00,   1.43052579e+00,   1.43222159e+00,\n",
       "           1.43462851e+00,   1.45353882e+00,   1.46307654e+00,\n",
       "           1.46996202e+00,   1.47195703e+00,   1.47208375e+00,\n",
       "           1.47238817e+00,   1.48230687e+00,   1.48480629e+00,\n",
       "           1.48866975e+00,   1.48885214e+00,   1.49346559e+00,\n",
       "           1.50701516e+00,   1.50725138e+00,   1.50781568e+00,\n",
       "           1.50863029e+00,   1.51343349e+00,   1.51779533e+00,\n",
       "           1.52254024e+00,   1.52342416e+00,   1.52598915e+00,\n",
       "           1.53444892e+00,   1.53691649e+00,   1.53722067e+00,\n",
       "           1.53771559e+00,   1.54632417e+00,   1.55014628e+00,\n",
       "           1.55289684e+00,   1.55871798e+00,   1.55872773e+00,\n",
       "           1.56435325e+00,   1.56743145e+00,   1.57102751e+00,\n",
       "           1.57107888e+00,   1.57883191e+00,   1.58896105e+00,\n",
       "           1.59136372e+00,   1.59446181e+00,   1.59798427e+00,\n",
       "           1.59906284e+00,   1.60078211e+00,   1.60191885e+00,\n",
       "           1.60637390e+00,   1.60728832e+00,   1.60743403e+00,\n",
       "           1.61098059e+00,   1.61976990e+00,   1.62275705e+00,\n",
       "           1.62764165e+00,   1.62835235e+00,   1.63310746e+00,\n",
       "           1.63788029e+00,   1.64195436e+00,   1.64648029e+00,\n",
       "           1.64955764e+00,   1.65245704e+00,   1.65479069e+00,\n",
       "           1.67720459e+00,   1.68382447e+00,   1.68383849e+00,\n",
       "           1.68494757e+00,   1.68531541e+00,   1.69099036e+00,\n",
       "           1.69180608e+00,   1.71304040e+00,   1.71491529e+00,\n",
       "           1.71904607e+00,   1.72074521e+00,   1.72724461e+00,\n",
       "           1.72791601e+00,   1.75581488e+00,   1.75971999e+00,\n",
       "           1.75999697e+00,   1.77700374e+00,   1.78252334e+00,\n",
       "           1.78617868e+00,   1.79591118e+00,   1.80239125e+00,\n",
       "           1.81460946e+00,   1.81654718e+00,   1.81707350e+00,\n",
       "           1.81743842e+00,   1.81830457e+00,   1.82932119e+00,\n",
       "           1.83488491e+00,   1.84015803e+00,   1.85004649e+00,\n",
       "           1.85131525e+00,   1.85534364e+00,   1.85782094e+00,\n",
       "           1.88480156e+00,   1.88883214e+00,   1.89008457e+00,\n",
       "           1.89731510e+00,   1.90028828e+00,   1.90478676e+00,\n",
       "           1.92388923e+00,   1.93031981e+00,   1.93799368e+00,\n",
       "           1.93872079e+00,   1.94637977e+00,   1.94946977e+00,\n",
       "           1.96635708e+00,   1.96720451e+00,   1.97231825e+00,\n",
       "           1.98214363e+00,   1.99592275e+00,   2.00884272e+00,\n",
       "           2.03327843e+00,   2.03544597e+00,   2.03552924e+00,\n",
       "           2.03967211e+00,   2.04033262e+00,   2.04714783e+00,\n",
       "           2.05031127e+00,   2.06625759e+00,   2.06818745e+00,\n",
       "           2.07952678e+00,   2.08287318e+00,   2.09596666e+00,\n",
       "           2.10566818e+00,   2.12112376e+00,   2.12208601e+00,\n",
       "           2.12477132e+00,   2.13567729e+00,   2.14697789e+00,\n",
       "           2.16688376e+00,   2.16989191e+00,   2.18055522e+00,\n",
       "           2.18678553e+00,   2.21962789e+00,   2.22971078e+00,\n",
       "           2.23485682e+00,   2.23488307e+00,   2.24067065e+00,\n",
       "           2.24149281e+00,   2.25834454e+00,   2.26211105e+00,\n",
       "           2.26660139e+00,   2.30187733e+00,   2.31213330e+00,\n",
       "           2.31410725e+00,   2.32093706e+00,   2.32546673e+00,\n",
       "           2.32980373e+00,   2.34978320e+00,   2.36287497e+00,\n",
       "           2.44538996e+00,   2.44711720e+00,   2.44772732e+00,\n",
       "           2.46201036e+00,   2.47502447e+00,   2.49772075e+00,\n",
       "           2.50238647e+00,   2.50789703e+00,   2.51566162e+00,\n",
       "           2.51585206e+00,   2.53089243e+00,   2.53870207e+00,\n",
       "           2.56525934e+00,   2.57976206e+00,   2.60760993e+00,\n",
       "           2.62104862e+00,   2.64492461e+00,   2.65627926e+00,\n",
       "           2.68942835e+00,   2.70305347e+00,   2.72667319e+00,\n",
       "           2.76904211e+00,   2.79611464e+00,   2.85867781e+00,\n",
       "           2.86402445e+00,   2.87308298e+00,   2.88836732e+00,\n",
       "           2.89498585e+00,   2.89761773e+00,   2.91113288e+00,\n",
       "           2.91396668e+00,   2.91758719e+00,   2.92985710e+00,\n",
       "           2.93332088e+00,   2.95031283e+00,   2.99130226e+00,\n",
       "           3.04150531e+00,   3.04301001e+00,   3.07677894e+00,\n",
       "           3.08310002e+00,   3.14406346e+00,   3.14949950e+00,\n",
       "           3.19199339e+00,   3.24007604e+00,   3.24037866e+00,\n",
       "           3.24474091e+00,   3.26010476e+00,   3.26684182e+00,\n",
       "           3.27107228e+00,   3.35343323e+00,   3.40222302e+00,\n",
       "           3.43439285e+00,   3.50863668e+00,   3.51137369e+00,\n",
       "           3.54083852e+00,   3.54612040e+00,   3.55173902e+00,\n",
       "           3.56413029e+00,   3.58784699e+00,   3.61145626e+00,\n",
       "           3.63657977e+00,   3.68011108e+00,   3.73986728e+00,\n",
       "           3.74517272e+00,   3.78365411e+00,   3.81408669e+00,\n",
       "           3.86129205e+00,   3.97603174e+00,   4.19430407e+00,\n",
       "           4.20910607e+00,   4.22878284e+00,   4.23410925e+00,\n",
       "           4.36177996e+00,   4.42658189e+00,   4.47167584e+00,\n",
       "           4.53202686e+00,   4.53691415e+00,   4.54022182e+00,\n",
       "           4.56801870e+00,   4.69440740e+00,   4.76172797e+00,\n",
       "           4.86965265e+00,   5.10938398e+00,   5.42685817e+00,\n",
       "           5.64965473e+00,   5.86059531e+00,   7.02388496e+00,\n",
       "           7.55805126e+00])),\n",
       " (1.0164818285400437, -1.048639409872453, 0.99929161184647031))"
      ]
     },
     "execution_count": 17,
     "metadata": {},
     "output_type": "execute_result"
    },
    {
     "data": {
      "image/png": "[encoded data removed]",
      "text/plain": [
       "<matplotlib.figure.Figure at 0x7feafe032160>"
      ]
     },
     "metadata": {},
     "output_type": "display_data"
    }
   ],
   "source": [
    "from numpy import array, log\n",
    "import scipy.stats\n",
    "alpha = 1.\n",
    "nsamp = 1000\n",
    "u = scipy.stats.uniform(0, 1)\n",
    "Finv = lambda u: 1/alpha*log(1/(1-u))\n",
    "v = array(list(map(Finv, u.rvs(nsamp))))\n",
    "\n",
    "fig,ax=subplots()\n",
    "scipy.stats.probplot(v, (1,), dist='expon', plot=ax)"
   ]
  },
  {
   "cell_type": "markdown",
   "metadata": {
    "collapsed": true
   },
   "source": [
    "# Rejection"
   ]
  },
  {
   "cell_type": "code",
   "execution_count": 24,
   "metadata": {
    "collapsed": false
   },
   "outputs": [
    {
     "name": "stdout",
     "output_type": "stream",
     "text": [
      "['Tester', '__all__', '__builtins__', '__cached__', '__doc__', '__file__', '__loader__', '__name__', '__package__', '__path__', '__spec__', '_binned_statistic', '_constants', '_continuous_distns', '_discrete_distns', '_distn_infrastructure', '_distr_params', '_multivariate', '_stats', '_stats_mstats_common', '_tukeylambda_stats', 'absolute_import', 'alpha', 'anderson', 'anderson_ksamp', 'anglit', 'ansari', 'arcsine', 'bartlett', 'bayes_mvs', 'bernoulli', 'beta', 'betai', 'betaprime', 'binned_statistic', 'binned_statistic_2d', 'binned_statistic_dd', 'binom', 'binom_test', 'boltzmann', 'boxcox', 'boxcox_llf', 'boxcox_normmax', 'boxcox_normplot', 'bradford', 'burr', 'burr12', 'cauchy', 'chi', 'chi2', 'chi2_contingency', 'chisqprob', 'chisquare', 'circmean', 'circstd', 'circvar', 'combine_pvalues', 'contingency', 'cosine', 'cumfreq', 'describe', 'dgamma', 'dirichlet', 'distributions', 'division', 'dlaplace', 'dweibull', 'entropy', 'erlang', 'expon', 'exponnorm', 'exponpow', 'exponweib', 'f', 'f_oneway', 'f_value', 'f_value_multivariate', 'f_value_wilks_lambda', 'fastsort', 'fatiguelife', 'find_repeats', 'fisher_exact', 'fisk', 'fligner', 'foldcauchy', 'foldnorm', 'frechet_l', 'frechet_r', 'friedmanchisquare', 'gamma', 'gausshyper', 'gaussian_kde', 'genexpon', 'genextreme', 'gengamma', 'genhalflogistic', 'genlogistic', 'gennorm', 'genpareto', 'geom', 'gilbrat', 'gmean', 'gompertz', 'gumbel_l', 'gumbel_r', 'halfcauchy', 'halfgennorm', 'halflogistic', 'halfnorm', 'histogram', 'histogram2', 'hmean', 'hypergeom', 'hypsecant', 'invgamma', 'invgauss', 'invweibull', 'invwishart', 'iqr', 'itemfreq', 'jarque_bera', 'johnsonsb', 'johnsonsu', 'kappa3', 'kappa4', 'kde', 'kendalltau', 'kruskal', 'ks_2samp', 'ksone', 'kstat', 'kstatvar', 'kstest', 'kstwobign', 'kurtosis', 'kurtosistest', 'laplace', 'levene', 'levy', 'levy_l', 'levy_stable', 'linregress', 'loggamma', 'logistic', 'loglaplace', 'lognorm', 'logser', 'lomax', 'mannwhitneyu', 'matrix_normal', 'maxwell', 'median_test', 'mielke', 'mode', 'moment', 'mood', 'morestats', 'mstats', 'mstats_basic', 'mstats_extras', 'multivariate_normal', 'mvn', 'mvsdist', 'nakagami', 'nbinom', 'ncf', 'nct', 'ncx2', 'norm', 'normaltest', 'obrientransform', 'ortho_group', 'pareto', 'pdf_fromgamma', 'pearson3', 'pearsonr', 'percentileofscore', 'planck', 'pointbiserialr', 'poisson', 'power_divergence', 'powerlaw', 'powerlognorm', 'powernorm', 'ppcc_max', 'ppcc_plot', 'print_function', 'probplot', 'randint', 'random_correlation', 'rankdata', 'ranksums', 'rayleigh', 'rdist', 'recipinvgauss', 'reciprocal', 'relfreq', 'rice', 'rv_continuous', 'rv_discrete', 'scoreatpercentile', 'sem', 'semicircular', 'shapiro', 'sigmaclip', 'signaltonoise', 'skellam', 'skew', 'skewnorm', 'skewtest', 'spearmanr', 'special_ortho_group', 'square_of_sums', 'ss', 'statlib', 'stats', 't', 'test', 'theilslopes', 'threshold', 'tiecorrect', 'tmax', 'tmean', 'tmin', 'trapz', 'triang', 'trim1', 'trim_mean', 'trimboth', 'truncexpon', 'truncnorm', 'tsem', 'tstd', 'ttest_1samp', 'ttest_ind', 'ttest_ind_from_stats', 'ttest_rel', 'tukeylambda', 'tvar', 'uniform', 'variation', 'vonmises', 'vonmises_line', 'wald', 'weibull_max', 'weibull_min', 'wilcoxon', 'wishart', 'wrapcauchy', 'zipf', 'zmap', 'zscore']\n"
     ]
    },
    {
     "data": {
      "image/png": "[encoded data removed]",
      "text/plain": [
       "<matplotlib.figure.Figure at 0x7feafde6e978>"
      ]
     },
     "metadata": {},
     "output_type": "display_data"
    }
   ],
   "source": [
    "import numpy as np\n",
    "x = np.linspace(0.001, 15, 100)\n",
    "f = lambda x:np.exp(-(x-1)**2/2./x)*(x+1)/12.\n",
    "fx = f(x)\n",
    "M = 0.3\n",
    "u1 = np.random.rand(10000) * 15\n",
    "u2 = np.random.rand(10000)\n",
    "idx, = np.where(u2<=f(u1/M))\n",
    "v = u1[idx]\n",
    "\n",
    "fig,ax=subplots()\n",
    "print(dir(scipy.stats))\n",
    "#scipy.stats.normplot(v, (1,), dist='norm', plot=ax)"
   ]
  },
  {
   "cell_type": "code",
   "execution_count": null,
   "metadata": {
    "collapsed": true
   },
   "outputs": [],
   "source": [
    ""
   ]
  }
 ],
 "metadata": {
  "kernelspec": {
   "display_name": "Python 3",
   "language": "python",
   "name": "python3"
  },
  "language_info": {
   "codemirror_mode": {
    "name": "ipython",
    "version": 3.0
   },
   "file_extension": ".py",
   "mimetype": "text/x-python",
   "name": "python",
   "nbconvert_exporter": "python",
   "pygments_lexer": "ipython3",
   "version": "3.4.3"
  }
 },
 "nbformat": 4,
 "nbformat_minor": 0
}