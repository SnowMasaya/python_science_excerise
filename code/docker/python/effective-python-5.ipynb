{
 "cells": [
  {
   "cell_type": "markdown",
   "metadata": {},
   "source": [
    "# subprocessを使って子プロセスを管理"
   ]
  },
  {
   "cell_type": "code",
   "execution_count": 2,
   "metadata": {
    "collapsed": false
   },
   "outputs": [
    {
     "name": "stdout",
     "output_type": "stream",
     "text": [
      "Hello from the child\n",
      "\n"
     ]
    }
   ],
   "source": [
    "import subprocess\n",
    "\n",
    "\n",
    "proc = subprocess.Popen(\n",
    "       ['echo', 'Hello from the child'],\n",
    "       stdout=subprocess.PIPE)\n",
    "out, err = proc.communicate()\n",
    "print(out.decode('utf-8'))"
   ]
  },
  {
   "cell_type": "code",
   "execution_count": 12,
   "metadata": {
    "collapsed": false
   },
   "outputs": [
    {
     "name": "stdout",
     "output_type": "stream",
     "text": [
      "b'\\x00\\xd35\\x17[~\\xf6\\xbe\\x98\\xd0'\n",
      "b'v\\x901Cp\\xb0d<1\\x8f'\n",
      "b'\\x86\\xabB\\xe0o\\xf3{x\\x03\\x81'\n"
     ]
    }
   ],
   "source": [
    "import os\n",
    "\n",
    "\n",
    "def run_openssl(data):\n",
    "    env = os.environ.copy()\n",
    "    env['password'] = b'\\xe24'\n",
    "    proc = subprocess.Popen(\n",
    "           ['openssl', 'enc', '-des3', '-pass', 'env:password'],\n",
    "           env=env,\n",
    "           stdin=subprocess.PIPE,\n",
    "           stdout=subprocess.PIPE\n",
    "           )\n",
    "    proc.stdin.write(data)\n",
    "    proc.stdin.flush()\n",
    "    return proc\n",
    "\n",
    "proces = []\n",
    "\n",
    "for _ in range(3):\n",
    "    data = os.urandom(10)\n",
    "    proc = run_openssl(data)\n",
    "    proces.append(proc)\n",
    "    \n",
    "for proc in proces:\n",
    "    out, err = proc.communicate()\n",
    "    print(out[-10:])\n",
    "    \n",
    "def run_md5(input_stdin):\n",
    "    proc = subprocess.Popen(\n",
    "        ['md5'],\n",
    "        stdin=input_stdin,\n",
    "        stdout=subprocess.PIPE\n",
    "           )\n",
    "    return proc\n",
    "\n",
    "input_proces = []\n",
    "hash_proces = []\n",
    "\n",
    "for _ in range(3):\n",
    "    data = os.urandom(10)\n",
    "    proc = run_openssl(data)\n",
    "    input_proces.append(proc)\n",
    "    #hash_proc = run_md5(proc.stdout)\n",
    "    #hash_proces.append(hash_proc)\n",
    "        \n",
    "for proc in input_proces:\n",
    "    try:\n",
    "        proc.communicate(timeout=0.1)\n",
    "    except subprocess.TimeoutExpired:\n",
    "        proc.terminate()\n",
    "        proc.wait()\n",
    "#for proc in hash_proces:\n",
    "#    out, err = proc.communicate()\n",
    "#    print(out.stip())"
   ]
  },
  {
   "cell_type": "markdown",
   "metadata": {},
   "source": [
    "# スレッドはブロッキングIOに使用\n",
    "\n",
    "- ファイル入出力、WEBアクセス、データベースの処理"
   ]
  },
  {
   "cell_type": "code",
   "execution_count": 36,
   "metadata": {
    "collapsed": false
   },
   "outputs": [
    {
     "name": "stdout",
     "output_type": "stream",
     "text": [
      "0:00:00.002660\n",
      "0:00:00.001499\n"
     ]
    }
   ],
   "source": [
    "import select, socket\n",
    "import datetime\n",
    "from threading import *\n",
    "\n",
    "def slow_systemcall():\n",
    "    select.select([socket.socket()], [], [], 0.1)\n",
    "    \n",
    "start = datetime.datetime.now()\n",
    "for _ in range(50):\n",
    "    slow_systemcall()\n",
    "end = datetime.datetime.now()\n",
    "print(end - start)\n",
    "\n",
    "start2 = datetime.datetime.now()\n",
    "\n",
    "threads = []\n",
    "for _ in range(5):\n",
    "    thread = Thread(target=slow_systemcall)\n",
    "    thread.start()\n",
    "    threads.append(thread)\n",
    "\n",
    "for thread in threads:\n",
    "    thread.join()\n",
    "end2 = datetime.datetime.now()\n",
    "print(end2 - start2)\n",
    "    "
   ]
  },
  {
   "cell_type": "markdown",
   "metadata": {},
   "source": [
    "# スレッドのデータ競合に対してLockを使用する"
   ]
  },
  {
   "cell_type": "code",
   "execution_count": 40,
   "metadata": {
    "collapsed": false
   },
   "outputs": [
    {
     "name": "stdout",
     "output_type": "stream",
     "text": [
      "500000 500000\n"
     ]
    }
   ],
   "source": [
    "class Counter(object):\n",
    "    def __init__(self):\n",
    "        self.count = 0\n",
    "    \n",
    "    def increment(self, offset):\n",
    "        self.count += offset\n",
    "\n",
    "def worker(sensor_index, how_many, counter):\n",
    "    for _ in range(how_many):\n",
    "        counter.increment(1)\n",
    "\n",
    "def run_threads(func, how_many, counter):\n",
    "    threads = []\n",
    "    for i in range(5):\n",
    "        args = (i, how_many, counter)\n",
    "        thread = Thread(target=func, args=args)\n",
    "        threads.append(thread)\n",
    "        thread.start()\n",
    "    for thread in threads:\n",
    "        thread.join()\n",
    "\n",
    "class LockingCounter(object):\n",
    "    def __init__(self):\n",
    "        self.lock = Lock()\n",
    "        self.count = 0\n",
    "        \n",
    "    def increment(self, offset):\n",
    "        with self.lock:\n",
    "            self.count += offset\n",
    "            \n",
    "how_many = 10**5\n",
    "counter = LockingCounter()\n",
    "run_threads(worker, how_many, counter)\n",
    "print(5 * how_many, counter.count)"
   ]
  },
  {
   "cell_type": "markdown",
   "metadata": {},
   "source": [
    "# スレッド間の協調作業にはQueueを使用する"
   ]
  },
  {
   "cell_type": "code",
   "execution_count": 42,
   "metadata": {
    "collapsed": true
   },
   "outputs": [
    {
     "ename": "NameError",
     "evalue": "name 'download' is not defined",
     "output_type": "error",
     "traceback": [
      "\u001b[1;31m---------------------------------------------------------------------------\u001b[0m",
      "\u001b[1;31mNameError\u001b[0m                                 Traceback (most recent call last)",
      "\u001b[1;32m<ipython-input-42-d05542d57a9a>\u001b[0m in \u001b[0;36m<module>\u001b[1;34m()\u001b[0m\n\u001b[0;32m     37\u001b[0m \u001b[0mdone_queue\u001b[0m \u001b[1;33m=\u001b[0m \u001b[0mClosableQueue\u001b[0m\u001b[1;33m(\u001b[0m\u001b[1;33m)\u001b[0m\u001b[1;33m\u001b[0m\u001b[0m\n\u001b[0;32m     38\u001b[0m threads = [\n\u001b[1;32m---> 39\u001b[1;33m     \u001b[0mStoppableWorker\u001b[0m\u001b[1;33m(\u001b[0m\u001b[0mdownload\u001b[0m\u001b[1;33m,\u001b[0m \u001b[0mdownload_queue\u001b[0m\u001b[1;33m,\u001b[0m \u001b[0mresize_queue\u001b[0m\u001b[1;33m)\u001b[0m\u001b[1;33m,\u001b[0m\u001b[1;33m\u001b[0m\u001b[0m\n\u001b[0m\u001b[0;32m     40\u001b[0m     \u001b[0mStoppableWorker\u001b[0m\u001b[1;33m(\u001b[0m\u001b[0mresize\u001b[0m\u001b[1;33m,\u001b[0m \u001b[0mresize_queue\u001b[0m\u001b[1;33m,\u001b[0m \u001b[0mupload_queue\u001b[0m\u001b[1;33m)\u001b[0m\u001b[1;33m,\u001b[0m\u001b[1;33m\u001b[0m\u001b[0m\n\u001b[0;32m     41\u001b[0m     \u001b[0mStoppableWorker\u001b[0m\u001b[1;33m(\u001b[0m\u001b[0mupload\u001b[0m\u001b[1;33m,\u001b[0m \u001b[0mupload_queue\u001b[0m\u001b[1;33m,\u001b[0m \u001b[0mdone_queue\u001b[0m\u001b[1;33m)\u001b[0m\u001b[1;33m,\u001b[0m\u001b[1;33m\u001b[0m\u001b[0m\n",
      "\u001b[1;31mNameError\u001b[0m: name 'download' is not defined"
     ]
    }
   ],
   "source": [
    "from queue import Queue\n",
    "queue = Queue()\n",
    "\n",
    "class ClosableQueue(Queue):\n",
    "    SENTINEL = object()\n",
    "    \n",
    "    def close(self):\n",
    "        self.put(self.SENTINEL)\n",
    "        \n",
    "    def __iter__(self):\n",
    "        while True:\n",
    "            item = self.get()\n",
    "            try:\n",
    "                if item is self.SENTINEL:\n",
    "                    return\n",
    "                yield item\n",
    "            finally:\n",
    "                self.task_done()\n",
    "    \n",
    "class StoppableWorker(Thread):\n",
    "    def __init__(self, func, in_queue, out_queue):\n",
    "        super().__init__()\n",
    "        self.func = func\n",
    "        self.in_queue = in_queue\n",
    "        self.out_queue = out_queue\n",
    "        self.polled_count = 0\n",
    "        self.work_done = 0\n",
    "    \n",
    "    def run(self):\n",
    "        for item in self.in_queue:\n",
    "            result = self.func(item)\n",
    "            self.out_queue.put(result)\n",
    "            \n",
    "download_queue = ClosableQueue()\n",
    "resize_queue = ClosableQueue()\n",
    "upload_queue = ClosableQueue()\n",
    "done_queue = ClosableQueue()\n",
    "threads = [\n",
    "    StoppableWorker(download, download_queue, resize_queue),\n",
    "    StoppableWorker(resize, resize_queue, upload_queue),\n",
    "    StoppableWorker(upload, upload_queue, done_queue),\n",
    "]\n",
    "\n",
    "for thread in threads:\n",
    "    thread.start()\n",
    "for _ in range(100):\n",
    "    download_queue.put(object())\n",
    "download_queue.close()\n",
    "download_queue.join()\n",
    "resize_queue.close()\n",
    "resize_queue.join()\n",
    "upload_queue.close()\n",
    "upload_queue.join()"
   ]
  },
  {
   "cell_type": "markdown",
   "metadata": {},
   "source": [
    "# 多くの関数実行にはコルーチンを考える"
   ]
  },
  {
   "cell_type": "code",
   "execution_count": 47,
   "metadata": {
    "collapsed": false
   },
   "outputs": [
    {
     "name": "stdout",
     "output_type": "stream",
     "text": [
      "10\n",
      "4\n",
      "4\n",
      "-1\n"
     ]
    }
   ],
   "source": [
    "def minimize():\n",
    "    current = yield\n",
    "    while True:\n",
    "        value = yield current\n",
    "        current = min(value, current)\n",
    "\n",
    "it = minimize()\n",
    "# whileの中に入るため\n",
    "next(it)\n",
    "\n",
    "print(it.send(10))\n",
    "print(it.send(4))\n",
    "print(it.send(22))\n",
    "print(it.send(-1))"
   ]
  },
  {
   "cell_type": "markdown",
   "metadata": {},
   "source": [
    "# 本当の並列性のために`concurrent.futures`を考慮する\n",
    "\n",
    "- 並列（cpuを複数使用）、並行（見た目上並列だが使用するcpuは一つ）\n",
    "- ProcessPoolExecutorを使用する場合でもオーバーヘッドとのトレードオフを考慮する"
   ]
  },
  {
   "cell_type": "code",
   "execution_count": 53,
   "metadata": {
    "collapsed": false
   },
   "outputs": [
    {
     "ename": "ImportError",
     "evalue": "cannot import name 'ThreadPoolExecutor'",
     "output_type": "error",
     "traceback": [
      "\u001b[1;31m---------------------------------------------------------------------------\u001b[0m",
      "\u001b[1;31mImportError\u001b[0m                               Traceback (most recent call last)",
      "\u001b[1;32m<ipython-input-53-36f50348ce70>\u001b[0m in \u001b[0;36m<module>\u001b[1;34m()\u001b[0m\n\u001b[1;32m----> 1\u001b[1;33m \u001b[1;32mfrom\u001b[0m \u001b[0mthreading\u001b[0m \u001b[1;32mimport\u001b[0m \u001b[0mThreadPoolExecutor\u001b[0m\u001b[1;33m\u001b[0m\u001b[0m\n\u001b[0m\u001b[0;32m      2\u001b[0m \u001b[1;33m\u001b[0m\u001b[0m\n\u001b[0;32m      3\u001b[0m \u001b[1;32mdef\u001b[0m \u001b[0mgcd\u001b[0m\u001b[1;33m(\u001b[0m\u001b[0mpair\u001b[0m\u001b[1;33m)\u001b[0m\u001b[1;33m:\u001b[0m\u001b[1;33m\u001b[0m\u001b[0m\n\u001b[0;32m      4\u001b[0m     \u001b[0ma\u001b[0m\u001b[1;33m,\u001b[0m \u001b[0mb\u001b[0m \u001b[1;33m=\u001b[0m \u001b[0mpair\u001b[0m\u001b[1;33m\u001b[0m\u001b[0m\n\u001b[0;32m      5\u001b[0m     \u001b[0mlow\u001b[0m \u001b[1;33m=\u001b[0m \u001b[0mmin\u001b[0m\u001b[1;33m(\u001b[0m\u001b[0ma\u001b[0m\u001b[1;33m,\u001b[0m \u001b[0mb\u001b[0m\u001b[1;33m)\u001b[0m\u001b[1;33m\u001b[0m\u001b[0m\n",
      "\u001b[1;31mImportError\u001b[0m: cannot import name 'ThreadPoolExecutor'"
     ]
    }
   ],
   "source": [
    "def gcd(pair):\n",
    "    a, b = pair\n",
    "    low = min(a, b)\n",
    "    for i in range(low, 0, -1):\n",
    "        if a % i == 0 and b % i == 0:\n",
    "            return i\n",
    "\n",
    "numbers = [(1963309, 2265973),(1963309, 2265973),\n",
    "          (1963309, 2265973), (1963309, 2265973)]\n",
    "\n",
    "start = datetime.datetime.now()\n",
    "\n",
    "results = list(map(gcd, numbers))\n",
    "\n",
    "end = datetime.datetime.now()\n",
    "\n",
    "print(end - start)\n",
    "\n",
    "# Thread\n",
    "\n",
    "start = datetime.datetime.now()\n",
    "\n",
    "pool = ThreadPoolExecutor(max_worker=2)\n",
    "\n",
    "results = list(pool.map(gcd, numbers))\n",
    "\n",
    "end = datetime.datetime.now()\n",
    "\n",
    "print(end - start)\n",
    "\n",
    "# Process\n",
    "\n",
    "start = datetime.datetime.now()\n",
    "\n",
    "pool = ProcessPoolExecutor(max_worker=2)\n",
    "\n",
    "results = list(pool.map(gcd, numbers))\n",
    "\n",
    "end = datetime.datetime.now()\n",
    "\n",
    "print(end - start)"
   ]
  },
  {
   "cell_type": "code",
   "execution_count": null,
   "metadata": {
    "collapsed": true
   },
   "outputs": [],
   "source": []
  }
 ],
 "metadata": {
  "kernelspec": {
   "display_name": "Python 3",
   "language": "python",
   "name": "python3"
  },
  "language_info": {
   "codemirror_mode": {
    "name": "ipython",
    "version": 3
   },
   "file_extension": ".py",
   "mimetype": "text/x-python",
   "name": "python",
   "nbconvert_exporter": "python",
   "pygments_lexer": "ipython3",
   "version": "3.4.3"
  }
 },
 "nbformat": 4,
 "nbformat_minor": 0
}
